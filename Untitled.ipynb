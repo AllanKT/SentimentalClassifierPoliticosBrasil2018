{
 "cells": [
  {
   "cell_type": "markdown",
   "metadata": {},
   "source": [
    "# Trabalho de Inteligência Artificial 2 - IESB\n",
    "\n",
    "## Classificação de Sentimento em Twitters sobre os candidatos a presidência do Brasil - 2018\n",
    "\n",
    "Este trabalho tem como objetivo analizar os sentimentos de twitters realizados sobre os candidatos a presidência do Brasil em 2018 entre textos com mensagens positivas ou negativas, e exemplificar em gráficos as analizes dos mesmos de forma individual.\n",
    "\n",
    "### Candidatos a presidência 2018\n",
    "\n",
    "+ Jair Bolsonaro (PSL) – 17\n",
    "+ Fernando Haddad (PT) – 13\n",
    "+ Ciro Gomes (PDT) – 12\n",
    "+ Geraldo Alckmin (PSDB) – 45\n",
    "+ Marina Silva (Rede) – 18\n",
    "+ Alvaro Dias (Podemos) – 19\n",
    "+ Henrique Meirelles (MDB) – 15\n",
    "+ João Amoêdo (Novo) – 30\n",
    "+ Guilherme Boulos (PSOL) – 50\n",
    "+ José Maria Eymael (Democracia Cristã) – 27\n",
    "+ Cabo Daciolo (Patriota) – 51\n",
    "+ João Goulart Filho (PPL) – 54\n",
    "+ Vera Lucia (PSTU) – 16"
   ]
  },
  {
   "cell_type": "markdown",
   "metadata": {},
   "source": [
    "# Bibliotecas utilizadas no projeto"
   ]
  },
  {
   "cell_type": "code",
   "execution_count": 1,
   "metadata": {},
   "outputs": [
    {
     "name": "stderr",
     "output_type": "stream",
     "text": [
      "C:\\Users\\Allan\\Anaconda3\\lib\\site-packages\\h5py\\__init__.py:36: FutureWarning: Conversion of the second argument of issubdtype from `float` to `np.floating` is deprecated. In future, it will be treated as `np.float64 == np.dtype(float).type`.\n",
      "  from ._conv import register_converters as _register_converters\n",
      "Using TensorFlow backend.\n"
     ]
    }
   ],
   "source": [
    "#from tweepy.streaming import StreamListener\n",
    "#from tweepy import OAuthHandler, Stream\n",
    "import time\n",
    "from pprint import pprint\n",
    "import json\n",
    "\n",
    "# This Python 3 environment comes with many helpful analytics libraries installed\n",
    "# It is defined by the kaggle/python docker image: https://github.com/kaggle/docker-python\n",
    "# For example, here's several helpful packages to load in \n",
    "\n",
    "import matplotlib.pyplot as plt\n",
    "import numpy as np # linear algebra\n",
    "import pandas as pd # data processing, CSV file I/O (e.g. pd.read_csv)\n",
    "\n",
    "import seaborn as sns\n",
    "from sklearn.metrics import classification_report, confusion_matrix\n",
    "from sklearn.feature_extraction.text import CountVectorizer\n",
    "from keras.preprocessing.text import Tokenizer\n",
    "from keras.preprocessing.sequence import pad_sequences\n",
    "from keras.models import Sequential\n",
    "from keras.layers import Dense, Embedding, LSTM, SpatialDropout1D\n",
    "from sklearn.model_selection import train_test_split\n",
    "from keras.utils.np_utils import to_categorical\n",
    "import re\n",
    "import nltk\n",
    "from nltk.corpus import stopwords \n",
    "from nltk.stem.lancaster import LancasterStemmer\n",
    "\n",
    "# Input data files are available in the \"../input/\" directory.\n",
    "# For example, running this (by clicking run or pressing Shift+Enter) will list the files in the input directory"
   ]
  },
  {
   "cell_type": "code",
   "execution_count": null,
   "metadata": {},
   "outputs": [],
   "source": [
    "#nltk.download('stopwords')\n",
    "#nltk.download('steaming')"
   ]
  },
  {
   "cell_type": "markdown",
   "metadata": {},
   "source": [
    "#  Web Crawler\n",
    "\n",
    "Utilizando a biblioteca [Tweepy] [link1] e a autorização do Twitter para utilizar sua [API] [link2], foi realizado um web crawler, buscando localizar 1000 com os termos listados abaixo. O tempo de execução de cada busca está listado abaixo de cada termo.\n",
    "\n",
    "O processador utilizado foi um Intel(R) Core(TM) i5-6200U CPU @ 2.30GHz 2.40 GHz.\n",
    "\n",
    "#### Termos:\n",
    "\n",
    "+ 'Bolsonaro'\n",
    "    * inicio: 1539456861.4597087\n",
    "    * fim: 1539456958.9965942\n",
    "    * total: 97.53688549995422\n",
    "+ 'Haddad'\n",
    "    * inicio: 1539456613.1283784\n",
    "    * fim:    1539456791.6778507\n",
    "    * total:  178.54947233200073\n",
    "+ 'Ciro'\n",
    "    * inicio: 1539456323.9065177\n",
    "    * fim: 1539458030.606718\n",
    "    * total: 1706.7002003192902\n",
    "+ 'Alckmin'\n",
    "    * inicio: 1539458055.8657103\n",
    "    * fim: 1539461812.2720942\n",
    "    * total: 3756.4063839912415\n",
    "+ 'Marina Silva'\n",
    "+ 'Alvaro Dias'\n",
    "+ 'Meirelles'\n",
    "+ 'Amoêdo'\n",
    "+ 'Boulos'\n",
    "    * inicio: 1539462744.8071775\n",
    "    * fim: 1539465263.4699695\n",
    "    * total: 2518.662791967392\n",
    "+ 'Eymael'\n",
    "+ 'Daciolo'\n",
    "+ 'Goulart'\n",
    "+ 'Vera Lucia'\n",
    "\n",
    "##### OBS: O código utilizado para realizar o crawler está localizado abaixo\n",
    "\n",
    "[link1]: https://github.com/tweepy/tweepy\n",
    "[link2]: https://developer.twitter.com"
   ]
  },
  {
   "cell_type": "code",
   "execution_count": 7,
   "metadata": {},
   "outputs": [],
   "source": [
    "# Variaveis de permição concedidas pelo Twitter à desenvolvedores\n",
    "access_token = \"\" \n",
    "access_token_secret = \"\"\n",
    "consumer_key = \"\"\n",
    "consumer_secret = \"\"\n",
    "\n",
    "# Termo que será crawleado\n",
    "candidato = \"\"\n",
    "\n",
    "# Classe que herda de StreamListener para realizar o Crawler\n",
    "class StdoutListener(StreamListener):\n",
    "\traw_data = {'text':[], 'candidato':[]}\n",
    "\tdef on_data(self, data):\n",
    "\t\ttry:\n",
    "            # Cria duas colunas no dataset: Text e Candidato\n",
    "\t\t\tself.raw_data['text'].append(json.loads(data)['text'])\n",
    "\t\t\tself.raw_data['candidato'].append(candidato)\n",
    "            # Caso já tenham sido capturadas 10000 twitters, o csv é salvo no diretorio indicado\n",
    "\t\t\tif len(self.raw_data['text']) == 1000:\n",
    "\t\t\t\tpprint(self.raw_data)\n",
    "\t\t\t\tdf = pd.DataFrame(self.raw_data, columns = ['candidato', 'text'])\n",
    "\t\t\t\tdf.to_csv(candidato+'.csv')\n",
    "\t\t\treturn True\n",
    "\t\texcept BaseException as e:\n",
    "\t\t\tprint(str(e))\n",
    "\t\t\ttime.sleep(5)\n",
    "\n",
    "\tdef on_error(self, status):\n",
    "\t\tprint(status)\n",
    "\n",
    "if __name__ == \"__main__\":\n",
    "\ttwiteer = StdoutListener() # Instância do Objeto\n",
    "    # Inserindo credênciais de autorização\n",
    "\tauth = OAuthHandler(consumer_key, consumer_secret) \n",
    "\tauth.set_access_token(access_token, access_token_secret)\n",
    "\tstream = Stream(auth, twiteer) # Instânciando objeto de crawler\n",
    "\tstream.filter(track=[candidato]) # Definindo termo que será utilizado para pesquisa"
   ]
  },
  {
   "cell_type": "markdown",
   "metadata": {},
   "source": [
    "# Leitura do dataset\n",
    "\n",
    "Utilizando o dataset disponivel [neste link] [link1], que possui 99989 twitters, tentamos realizar o treinamento de nossa rede neural.\n",
    "\n",
    "O dataset possui três colunas: \n",
    "\n",
    "#### Colunas:\n",
    "\n",
    "+ 'ItemID'\n",
    "    * Representa o id da linha. Este foi retirado no momento de leitura\n",
    "+ 'Sentiment'\n",
    "    * Este define o sentimento do twitter entre 0(NEGATIVO) ou 1(POSITIVO)\n",
    "+ 'SentimentText'\n",
    "    * Aqui encontra-se o texto do twitter em si\n",
    "    \n",
    "|ItemID|Sentiment|SentimentText|\n",
    "|------|------|------|\n",
    "|1  |0  |text  |\n",
    "|2  |1  |text  | \n",
    "|3  |0  |text  | \n",
    "|...  |...  |...  | \n",
    "\n",
    "[link1]: https://www.kaggle.com/c/twitter-sentiment-analysis2"
   ]
  },
  {
   "cell_type": "code",
   "execution_count": 2,
   "metadata": {},
   "outputs": [
    {
     "data": {
      "text/html": [
       "<div>\n",
       "<style scoped>\n",
       "    .dataframe tbody tr th:only-of-type {\n",
       "        vertical-align: middle;\n",
       "    }\n",
       "\n",
       "    .dataframe tbody tr th {\n",
       "        vertical-align: top;\n",
       "    }\n",
       "\n",
       "    .dataframe thead th {\n",
       "        text-align: right;\n",
       "    }\n",
       "</style>\n",
       "<table border=\"1\" class=\"dataframe\">\n",
       "  <thead>\n",
       "    <tr style=\"text-align: right;\">\n",
       "      <th></th>\n",
       "      <th>Sentiment</th>\n",
       "      <th>SentimentText</th>\n",
       "    </tr>\n",
       "  </thead>\n",
       "  <tbody>\n",
       "    <tr>\n",
       "      <th>0</th>\n",
       "      <td>0</td>\n",
       "      <td>is so sad for my APL frie...</td>\n",
       "    </tr>\n",
       "    <tr>\n",
       "      <th>1</th>\n",
       "      <td>0</td>\n",
       "      <td>I missed the New Moon trail...</td>\n",
       "    </tr>\n",
       "    <tr>\n",
       "      <th>2</th>\n",
       "      <td>1</td>\n",
       "      <td>omg its already 7:30 :O</td>\n",
       "    </tr>\n",
       "    <tr>\n",
       "      <th>3</th>\n",
       "      <td>0</td>\n",
       "      <td>.. Omgaga. Im sooo  im gunna CRy. I'...</td>\n",
       "    </tr>\n",
       "    <tr>\n",
       "      <th>4</th>\n",
       "      <td>0</td>\n",
       "      <td>i think mi bf is cheating on me!!!   ...</td>\n",
       "    </tr>\n",
       "    <tr>\n",
       "      <th>5</th>\n",
       "      <td>0</td>\n",
       "      <td>or i just worry too much?</td>\n",
       "    </tr>\n",
       "    <tr>\n",
       "      <th>6</th>\n",
       "      <td>1</td>\n",
       "      <td>Juuuuuuuuuuuuuuuuussssst Chillin!!</td>\n",
       "    </tr>\n",
       "    <tr>\n",
       "      <th>7</th>\n",
       "      <td>0</td>\n",
       "      <td>Sunny Again        Work Tomorrow  :-|  ...</td>\n",
       "    </tr>\n",
       "    <tr>\n",
       "      <th>8</th>\n",
       "      <td>1</td>\n",
       "      <td>handed in my uniform today . i miss you ...</td>\n",
       "    </tr>\n",
       "    <tr>\n",
       "      <th>9</th>\n",
       "      <td>1</td>\n",
       "      <td>hmmmm.... i wonder how she my number @-)</td>\n",
       "    </tr>\n",
       "    <tr>\n",
       "      <th>10</th>\n",
       "      <td>0</td>\n",
       "      <td>I must think about positive..</td>\n",
       "    </tr>\n",
       "    <tr>\n",
       "      <th>11</th>\n",
       "      <td>1</td>\n",
       "      <td>thanks to all the haters up in my face a...</td>\n",
       "    </tr>\n",
       "    <tr>\n",
       "      <th>12</th>\n",
       "      <td>0</td>\n",
       "      <td>this weekend has sucked so far</td>\n",
       "    </tr>\n",
       "    <tr>\n",
       "      <th>13</th>\n",
       "      <td>0</td>\n",
       "      <td>jb isnt showing in australia any more!</td>\n",
       "    </tr>\n",
       "    <tr>\n",
       "      <th>14</th>\n",
       "      <td>0</td>\n",
       "      <td>ok thats it you win.</td>\n",
       "    </tr>\n",
       "    <tr>\n",
       "      <th>15</th>\n",
       "      <td>0</td>\n",
       "      <td>&amp;lt;-------- This is the way i feel right ...</td>\n",
       "    </tr>\n",
       "    <tr>\n",
       "      <th>16</th>\n",
       "      <td>0</td>\n",
       "      <td>awhhe man.... I'm completely useless rt no...</td>\n",
       "    </tr>\n",
       "    <tr>\n",
       "      <th>17</th>\n",
       "      <td>1</td>\n",
       "      <td>Feeling strangely fine. Now I'm gonna go l...</td>\n",
       "    </tr>\n",
       "    <tr>\n",
       "      <th>18</th>\n",
       "      <td>0</td>\n",
       "      <td>HUGE roll of thunder just now...SO scary!!!!</td>\n",
       "    </tr>\n",
       "    <tr>\n",
       "      <th>19</th>\n",
       "      <td>0</td>\n",
       "      <td>I just cut my beard off. It's only been gr...</td>\n",
       "    </tr>\n",
       "    <tr>\n",
       "      <th>20</th>\n",
       "      <td>0</td>\n",
       "      <td>Very sad about Iran.</td>\n",
       "    </tr>\n",
       "    <tr>\n",
       "      <th>21</th>\n",
       "      <td>0</td>\n",
       "      <td>wompppp wompp</td>\n",
       "    </tr>\n",
       "    <tr>\n",
       "      <th>22</th>\n",
       "      <td>1</td>\n",
       "      <td>You're the only one who can see this cause...</td>\n",
       "    </tr>\n",
       "    <tr>\n",
       "      <th>23</th>\n",
       "      <td>0</td>\n",
       "      <td>&amp;lt;---Sad level is 3. I was writing a mass...</td>\n",
       "    </tr>\n",
       "    <tr>\n",
       "      <th>24</th>\n",
       "      <td>0</td>\n",
       "      <td>...  Headed to Hospitol : Had to pull out o...</td>\n",
       "    </tr>\n",
       "    <tr>\n",
       "      <th>25</th>\n",
       "      <td>0</td>\n",
       "      <td>BoRinG   ): whats wrong with him??     Plea...</td>\n",
       "    </tr>\n",
       "    <tr>\n",
       "      <th>26</th>\n",
       "      <td>0</td>\n",
       "      <td>can't be bothered. i wish i could spend the...</td>\n",
       "    </tr>\n",
       "    <tr>\n",
       "      <th>27</th>\n",
       "      <td>0</td>\n",
       "      <td>Feeeling like shit right now. I really want...</td>\n",
       "    </tr>\n",
       "    <tr>\n",
       "      <th>28</th>\n",
       "      <td>1</td>\n",
       "      <td>goodbye exams, HELLO ALCOHOL TONIGHT</td>\n",
       "    </tr>\n",
       "    <tr>\n",
       "      <th>29</th>\n",
       "      <td>0</td>\n",
       "      <td>I didn't realize it was THAT deep. Geez giv...</td>\n",
       "    </tr>\n",
       "    <tr>\n",
       "      <th>...</th>\n",
       "      <td>...</td>\n",
       "      <td>...</td>\n",
       "    </tr>\n",
       "    <tr>\n",
       "      <th>99959</th>\n",
       "      <td>0</td>\n",
       "      <td>@CT415 @UCLA_Bruin  it made me sad too!  that ...</td>\n",
       "    </tr>\n",
       "    <tr>\n",
       "      <th>99960</th>\n",
       "      <td>1</td>\n",
       "      <td>@CT415 I agree. I think they all have that fet...</td>\n",
       "    </tr>\n",
       "    <tr>\n",
       "      <th>99961</th>\n",
       "      <td>0</td>\n",
       "      <td>@ct415 I hope it's not too serious of an injur...</td>\n",
       "    </tr>\n",
       "    <tr>\n",
       "      <th>99962</th>\n",
       "      <td>0</td>\n",
       "      <td>@ctabita if it's any consolation, this weekend...</td>\n",
       "    </tr>\n",
       "    <tr>\n",
       "      <th>99963</th>\n",
       "      <td>1</td>\n",
       "      <td>@ctayah got your back, yo!</td>\n",
       "    </tr>\n",
       "    <tr>\n",
       "      <th>99964</th>\n",
       "      <td>1</td>\n",
       "      <td>@ctaylor0127 I can't wait to see that movie. E...</td>\n",
       "    </tr>\n",
       "    <tr>\n",
       "      <th>99965</th>\n",
       "      <td>1</td>\n",
       "      <td>@ctaylor10127 @smelby I am excited and a littl...</td>\n",
       "    </tr>\n",
       "    <tr>\n",
       "      <th>99966</th>\n",
       "      <td>0</td>\n",
       "      <td>@ctb1221 yeah  sorry.going to a concert that n...</td>\n",
       "    </tr>\n",
       "    <tr>\n",
       "      <th>99967</th>\n",
       "      <td>1</td>\n",
       "      <td>@ctcash @buildingateam @diabetescure @chocolat...</td>\n",
       "    </tr>\n",
       "    <tr>\n",
       "      <th>99968</th>\n",
       "      <td>1</td>\n",
       "      <td>@ctdesign87 im so glad you went to china town ...</td>\n",
       "    </tr>\n",
       "    <tr>\n",
       "      <th>99969</th>\n",
       "      <td>0</td>\n",
       "      <td>@CTerry1985  Sorry</td>\n",
       "    </tr>\n",
       "    <tr>\n",
       "      <th>99970</th>\n",
       "      <td>0</td>\n",
       "      <td>@CTerry1985 damn it, dont have sky</td>\n",
       "    </tr>\n",
       "    <tr>\n",
       "      <th>99971</th>\n",
       "      <td>0</td>\n",
       "      <td>@CTerry1985 That's the thing; the new raft of ...</td>\n",
       "    </tr>\n",
       "    <tr>\n",
       "      <th>99972</th>\n",
       "      <td>1</td>\n",
       "      <td>@cthagod</td>\n",
       "    </tr>\n",
       "    <tr>\n",
       "      <th>99973</th>\n",
       "      <td>1</td>\n",
       "      <td>@ctham  #FollowFriday</td>\n",
       "    </tr>\n",
       "    <tr>\n",
       "      <th>99974</th>\n",
       "      <td>0</td>\n",
       "      <td>@ctham #awaresg You are not wrong. But from a ...</td>\n",
       "    </tr>\n",
       "    <tr>\n",
       "      <th>99975</th>\n",
       "      <td>0</td>\n",
       "      <td>@ctham @mommyfizz cuz you big burly man.  haha...</td>\n",
       "    </tr>\n",
       "    <tr>\n",
       "      <th>99976</th>\n",
       "      <td>1</td>\n",
       "      <td>@ctham @Wilsurn Trying to get a wider range of...</td>\n",
       "    </tr>\n",
       "    <tr>\n",
       "      <th>99977</th>\n",
       "      <td>1</td>\n",
       "      <td>@ctham Haha I love the passion in your support</td>\n",
       "    </tr>\n",
       "    <tr>\n",
       "      <th>99978</th>\n",
       "      <td>1</td>\n",
       "      <td>@cthulhullahoop That sucks...I like living in ...</td>\n",
       "    </tr>\n",
       "    <tr>\n",
       "      <th>99979</th>\n",
       "      <td>1</td>\n",
       "      <td>@cunningstunts till i can go home been here ti...</td>\n",
       "    </tr>\n",
       "    <tr>\n",
       "      <th>99980</th>\n",
       "      <td>1</td>\n",
       "      <td>@cunningstunts22 afternoon jim hows you  x</td>\n",
       "    </tr>\n",
       "    <tr>\n",
       "      <th>99981</th>\n",
       "      <td>0</td>\n",
       "      <td>@cup_a_tea The foot is really bad. Like the wo...</td>\n",
       "    </tr>\n",
       "    <tr>\n",
       "      <th>99982</th>\n",
       "      <td>1</td>\n",
       "      <td>@Cup_Of_Katy Have fun doing health &amp;amp; safet...</td>\n",
       "    </tr>\n",
       "    <tr>\n",
       "      <th>99983</th>\n",
       "      <td>0</td>\n",
       "      <td>@cupati It took me waaay too long to get your ...</td>\n",
       "    </tr>\n",
       "    <tr>\n",
       "      <th>99984</th>\n",
       "      <td>0</td>\n",
       "      <td>@Cupcake  seems like a repeating problem   hop...</td>\n",
       "    </tr>\n",
       "    <tr>\n",
       "      <th>99985</th>\n",
       "      <td>1</td>\n",
       "      <td>@cupcake__ arrrr we both replied to each other...</td>\n",
       "    </tr>\n",
       "    <tr>\n",
       "      <th>99986</th>\n",
       "      <td>0</td>\n",
       "      <td>@CuPcAkE_2120 ya i thought so</td>\n",
       "    </tr>\n",
       "    <tr>\n",
       "      <th>99987</th>\n",
       "      <td>1</td>\n",
       "      <td>@Cupcake_Dollie Yes. Yes. I'm glad you had mor...</td>\n",
       "    </tr>\n",
       "    <tr>\n",
       "      <th>99988</th>\n",
       "      <td>1</td>\n",
       "      <td>@cupcake_kayla haha yes you do</td>\n",
       "    </tr>\n",
       "  </tbody>\n",
       "</table>\n",
       "<p>99989 rows × 2 columns</p>\n",
       "</div>"
      ],
      "text/plain": [
       "       Sentiment                                      SentimentText\n",
       "0              0                       is so sad for my APL frie...\n",
       "1              0                     I missed the New Moon trail...\n",
       "2              1                            omg its already 7:30 :O\n",
       "3              0            .. Omgaga. Im sooo  im gunna CRy. I'...\n",
       "4              0           i think mi bf is cheating on me!!!   ...\n",
       "5              0                  or i just worry too much?        \n",
       "6              1                 Juuuuuuuuuuuuuuuuussssst Chillin!!\n",
       "7              0         Sunny Again        Work Tomorrow  :-|  ...\n",
       "8              1        handed in my uniform today . i miss you ...\n",
       "9              1           hmmmm.... i wonder how she my number @-)\n",
       "10             0                      I must think about positive..\n",
       "11             1        thanks to all the haters up in my face a...\n",
       "12             0                     this weekend has sucked so far\n",
       "13             0             jb isnt showing in australia any more!\n",
       "14             0                               ok thats it you win.\n",
       "15             0      &lt;-------- This is the way i feel right ...\n",
       "16             0      awhhe man.... I'm completely useless rt no...\n",
       "17             1      Feeling strangely fine. Now I'm gonna go l...\n",
       "18             0       HUGE roll of thunder just now...SO scary!!!!\n",
       "19             0      I just cut my beard off. It's only been gr...\n",
       "20             0                               Very sad about Iran.\n",
       "21             0                                      wompppp wompp\n",
       "22             1      You're the only one who can see this cause...\n",
       "23             0     &lt;---Sad level is 3. I was writing a mass...\n",
       "24             0     ...  Headed to Hospitol : Had to pull out o...\n",
       "25             0     BoRinG   ): whats wrong with him??     Plea...\n",
       "26             0     can't be bothered. i wish i could spend the...\n",
       "27             0     Feeeling like shit right now. I really want...\n",
       "28             1              goodbye exams, HELLO ALCOHOL TONIGHT \n",
       "29             0     I didn't realize it was THAT deep. Geez giv...\n",
       "...          ...                                                ...\n",
       "99959          0  @CT415 @UCLA_Bruin  it made me sad too!  that ...\n",
       "99960          1  @CT415 I agree. I think they all have that fet...\n",
       "99961          0  @ct415 I hope it's not too serious of an injur...\n",
       "99962          0  @ctabita if it's any consolation, this weekend...\n",
       "99963          1                        @ctayah got your back, yo! \n",
       "99964          1  @ctaylor0127 I can't wait to see that movie. E...\n",
       "99965          1  @ctaylor10127 @smelby I am excited and a littl...\n",
       "99966          0  @ctb1221 yeah  sorry.going to a concert that n...\n",
       "99967          1  @ctcash @buildingateam @diabetescure @chocolat...\n",
       "99968          1  @ctdesign87 im so glad you went to china town ...\n",
       "99969          0                                 @CTerry1985  Sorry\n",
       "99970          0                @CTerry1985 damn it, dont have sky \n",
       "99971          0  @CTerry1985 That's the thing; the new raft of ...\n",
       "99972          1                                          @cthagod \n",
       "99973          1                              @ctham  #FollowFriday\n",
       "99974          0  @ctham #awaresg You are not wrong. But from a ...\n",
       "99975          0  @ctham @mommyfizz cuz you big burly man.  haha...\n",
       "99976          1  @ctham @Wilsurn Trying to get a wider range of...\n",
       "99977          1    @ctham Haha I love the passion in your support \n",
       "99978          1  @cthulhullahoop That sucks...I like living in ...\n",
       "99979          1  @cunningstunts till i can go home been here ti...\n",
       "99980          1         @cunningstunts22 afternoon jim hows you  x\n",
       "99981          0  @cup_a_tea The foot is really bad. Like the wo...\n",
       "99982          1  @Cup_Of_Katy Have fun doing health &amp; safet...\n",
       "99983          0  @cupati It took me waaay too long to get your ...\n",
       "99984          0  @Cupcake  seems like a repeating problem   hop...\n",
       "99985          1  @cupcake__ arrrr we both replied to each other...\n",
       "99986          0                     @CuPcAkE_2120 ya i thought so \n",
       "99987          1  @Cupcake_Dollie Yes. Yes. I'm glad you had mor...\n",
       "99988          1                    @cupcake_kayla haha yes you do \n",
       "\n",
       "[99989 rows x 2 columns]"
      ]
     },
     "execution_count": 2,
     "metadata": {},
     "output_type": "execute_result"
    }
   ],
   "source": [
    "import pandas as pd\n",
    "data = pd.read_csv('train.csv', encoding='latin-1')\n",
    "data = data.drop(['ItemID'], axis=1)\n",
    "data.head()"
   ]
  },
  {
   "cell_type": "code",
   "execution_count": 3,
   "metadata": {},
   "outputs": [
    {
     "data": {
      "text/plain": [
       "1    56457\n",
       "0    43532\n",
       "Name: Sentiment, dtype: int64"
      ]
     },
     "execution_count": 3,
     "metadata": {},
     "output_type": "execute_result"
    }
   ],
   "source": [
    "data.Sentiment.value_counts()"
   ]
  },
  {
   "cell_type": "code",
   "execution_count": 4,
   "metadata": {},
   "outputs": [
    {
     "data": {
      "text/plain": [
       "<matplotlib.axes._subplots.AxesSubplot at 0x1c7e9c1f240>"
      ]
     },
     "execution_count": 4,
     "metadata": {},
     "output_type": "execute_result"
    },
    {
     "data": {
      "image/png": "[encoded data removed]",
      "text/plain": [
       "<Figure size 432x288 with 1 Axes>"
      ]
     },
     "metadata": {},
     "output_type": "display_data"
    }
   ],
   "source": [
    "data.Sentiment.plot.hist(bins=3, alpha=0.5)"
   ]
  },
  {
   "cell_type": "code",
   "execution_count": 5,
   "metadata": {},
   "outputs": [
    {
     "data": {
      "text/plain": [
       "(99989, 2)"
      ]
     },
     "execution_count": 5,
     "metadata": {},
     "output_type": "execute_result"
    }
   ],
   "source": [
    "data.shape"
   ]
  },
  {
   "cell_type": "code",
   "execution_count": 6,
   "metadata": {},
   "outputs": [
    {
     "name": "stdout",
     "output_type": "stream",
     "text": [
      "Total de textos a serem analizados: 99989\n",
      "Total de termos sem repetição: 99989\n"
     ]
    }
   ],
   "source": [
    "print('Total de textos a serem analizados:', data.SentimentText.value_counts().size)\n",
    "print('Total de termos sem repetição:', data.SentimentText.unique().size)"
   ]
  },
  {
   "cell_type": "markdown",
   "metadata": {},
   "source": [
    "# Tratamento dos dados\n",
    "\n",
    "Nesta etapa utilizaremos as bibliotecas re e nltk do python para tratar nossos dados antes de utiliza-los em nossa rede neural, seguindo diversas etapas afim de melhorar nossa acurácia.\n",
    "\n",
    "Ápos o tratamento realizaremos a tokenização de nossos twitters com keras, transformando-os em valores numericos, para efetivamente serem jogados na rede neural.\n",
    "\n",
    "#### Etapas de tratamento:\n",
    "\n",
    "+ Palavras com caracteres minusculos\n",
    "+ Remoções:\n",
    "    * Pontuação\n",
    "    * Caracteres repetidos\n",
    "    * StopWords\n",
    "    * Nomes próprios\n",
    "    * Valores numericos\n",
    "    * Links, emails e URLs\n",
    "    * Usernames\n",
    "+ Tokenization\n",
    "+ Steamization ou Lammetization\n",
    "+ Concatenação"
   ]
  },
  {
   "cell_type": "code",
   "execution_count": 38,
   "metadata": {},
   "outputs": [],
   "source": [
    "def words_to_lower(data):\n",
    "    return data.SentimentText.apply(lambda x: x.lower())\n",
    "\n",
    "def remove_username(data):\n",
    "    return data.SentimentText.apply(lambda x: re.sub(r'@[\\w\\.-]+','',x))\n",
    "\n",
    "def remove_email(data):\n",
    "    return data.SentimentText.apply(lambda x: re.sub(r'[\\w\\.-]+@[\\w\\.-]+','',x))\n",
    "\n",
    "def remove_url(data):\n",
    "    return data.SentimentText.apply(lambda x: re.sub(r'^https?:\\/\\/.*[\\r\\n]*','',x))\n",
    "\n",
    "def remove_number(data):\n",
    "    return data.SentimentText.apply(lambda x: re.sub(r'[0-9]','',x))\n",
    "\n",
    "def remove_pontuation(data):\n",
    "    return data.SentimentText.apply(lambda x: re.sub(r'[^a-zA-z\\s]','',x))\n",
    "\n",
    "def remove_repeated_character(data):\n",
    "    return data.SentimentText.apply(lambda x: re.sub(r\"(\\w)\\1*\", r'\\1', x))\n",
    "\n",
    "def tokenizer(data):\n",
    "    return data.SentimentText.apply(lambda x: nltk.word_tokenize(x))\n",
    "\n",
    "def remove_stopword(data):\n",
    "    stop_words = set(stopwords.words('english'))\n",
    "    return data.SentimentText.apply(lambda x: [j for j in x if not j in stop_words])\n",
    "\n",
    "def stemming(data):\n",
    "    stem = LancasterStemmer()\n",
    "    return data.SentimentText.apply(lambda x: [stem.stem(j) for j in x])\n",
    "\n",
    "def concat(data):\n",
    "    return data.SentimentText.apply(lambda x: \" \".join(x))"
   ]
  },
  {
   "cell_type": "code",
   "execution_count": 8,
   "metadata": {},
   "outputs": [],
   "source": [
    "data.SentimentText = words_to_lower(data)\n",
    "data.SentimentText = remove_username(data)\n",
    "data.SentimentText = remove_number(data)\n",
    "data.SentimentText = remove_pontuation(data)\n",
    "data.SentimentText = remove_repeated_character(data)\n",
    "data.SentimentText = tokenizer(data)\n",
    "data.SentimentText = remove_stopword(data)\n",
    "data.SentimentText = stemming(data)\n",
    "data.SentimentText = concat(data)"
   ]
  },
  {
   "cell_type": "code",
   "execution_count": 42,
   "metadata": {},
   "outputs": [
    {
     "data": {
      "text/html": [
       "<div>\n",
       "<style scoped>\n",
       "    .dataframe tbody tr th:only-of-type {\n",
       "        vertical-align: middle;\n",
       "    }\n",
       "\n",
       "    .dataframe tbody tr th {\n",
       "        vertical-align: top;\n",
       "    }\n",
       "\n",
       "    .dataframe thead th {\n",
       "        text-align: right;\n",
       "    }\n",
       "</style>\n",
       "<table border=\"1\" class=\"dataframe\">\n",
       "  <thead>\n",
       "    <tr style=\"text-align: right;\">\n",
       "      <th></th>\n",
       "      <th>Sentiment</th>\n",
       "      <th>SentimentText</th>\n",
       "    </tr>\n",
       "  </thead>\n",
       "  <tbody>\n",
       "    <tr>\n",
       "      <th>0</th>\n",
       "      <td>0</td>\n",
       "      <td>sad apl friend</td>\n",
       "    </tr>\n",
       "    <tr>\n",
       "      <th>1</th>\n",
       "      <td>0</td>\n",
       "      <td>mis new mon trail</td>\n",
       "    </tr>\n",
       "    <tr>\n",
       "      <th>2</th>\n",
       "      <td>1</td>\n",
       "      <td>omg already</td>\n",
       "    </tr>\n",
       "    <tr>\n",
       "      <th>3</th>\n",
       "      <td>0</td>\n",
       "      <td>omgag im im gun cry iv ben dent sint supos get...</td>\n",
       "    </tr>\n",
       "    <tr>\n",
       "      <th>4</th>\n",
       "      <td>0</td>\n",
       "      <td>think mi bf che t_t</td>\n",
       "    </tr>\n",
       "  </tbody>\n",
       "</table>\n",
       "</div>"
      ],
      "text/plain": [
       "   Sentiment                                      SentimentText\n",
       "0          0                                     sad apl friend\n",
       "1          0                                  mis new mon trail\n",
       "2          1                                        omg already\n",
       "3          0  omgag im im gun cry iv ben dent sint supos get...\n",
       "4          0                                think mi bf che t_t"
      ]
     },
     "execution_count": 42,
     "metadata": {},
     "output_type": "execute_result"
    }
   ],
   "source": [
    "data.head()"
   ]
  },
  {
   "cell_type": "code",
   "execution_count": null,
   "metadata": {},
   "outputs": [],
   "source": [
    "#data = data[data.sentiment != \"Neutral\"]\n",
    "#data['SentimentText'] = data['SentimentText'].apply(lambda x: x.lower())\n",
    "#data['SentimentText'] = data['SentimentText'].apply((lambda x: re.sub('[^a-zA-z0-9\\s]','',x)))\n",
    "\n",
    "#print(data[ data['Sentiment'] == 1].size)\n",
    "#print(data[ data['Sentiment'] == 0].size)\n",
    "\n",
    "#for idx,row in data.iterrows():\n",
    "#    row[0] = row[0].replace('rt',' ')"
   ]
  },
  {
   "cell_type": "code",
   "execution_count": 41,
   "metadata": {},
   "outputs": [],
   "source": [
    "max_fatures = 2000\n",
    "tokenizer = Tokenizer(num_words=max_fatures, split=' ')\n",
    "tokenizer.fit_on_texts(data.SentimentText.values)\n",
    "X = tokenizer.texts_to_sequences(data.SentimentText.values)\n",
    "X = pad_sequences(X)"
   ]
  },
  {
   "cell_type": "code",
   "execution_count": 43,
   "metadata": {},
   "outputs": [
    {
     "name": "stdout",
     "output_type": "stream",
     "text": [
      "_________________________________________________________________\n",
      "Layer (type)                 Output Shape              Param #   \n",
      "=================================================================\n",
      "embedding_1 (Embedding)      (None, 53, 128)           256000    \n",
      "_________________________________________________________________\n",
      "spatial_dropout1d_1 (Spatial (None, 53, 128)           0         \n",
      "_________________________________________________________________\n",
      "lstm_1 (LSTM)                (None, 196)               254800    \n",
      "_________________________________________________________________\n",
      "dense_1 (Dense)              (None, 2)                 394       \n",
      "=================================================================\n",
      "Total params: 511,194\n",
      "Trainable params: 511,194\n",
      "Non-trainable params: 0\n",
      "_________________________________________________________________\n",
      "None\n"
     ]
    }
   ],
   "source": [
    "embed_dim = 128\n",
    "lstm_out = 196\n",
    "\n",
    "model = Sequential()\n",
    "model.add(Embedding(max_fatures, embed_dim,input_length = X.shape[1]))\n",
    "model.add(SpatialDropout1D(0.4))\n",
    "model.add(LSTM(lstm_out, dropout=0.2, recurrent_dropout=0.2))\n",
    "model.add(Dense(2,activation='softmax'))\n",
    "model.compile(loss = 'categorical_crossentropy', optimizer='adam',metrics = ['accuracy'])\n",
    "print(model.summary())"
   ]
  },
  {
   "cell_type": "code",
   "execution_count": 44,
   "metadata": {},
   "outputs": [
    {
     "name": "stdout",
     "output_type": "stream",
     "text": [
      "(66992, 53) (66992, 2)\n",
      "(32997, 53) (32997, 2)\n"
     ]
    }
   ],
   "source": [
    "Y = pd.get_dummies(data['Sentiment']).values\n",
    "X_train, X_test, Y_train, Y_test = train_test_split(X,Y, test_size = 0.33, random_state = 42)\n",
    "print(X_train.shape,Y_train.shape)\n",
    "print(X_test.shape,Y_test.shape)"
   ]
  },
  {
   "cell_type": "code",
   "execution_count": 45,
   "metadata": {},
   "outputs": [
    {
     "name": "stdout",
     "output_type": "stream",
     "text": [
      "Epoch 1/7\n",
      "66992/66992 [==============================] - 248s 4ms/step - loss: 0.5397 - acc: 0.7261\n",
      "Epoch 2/7\n",
      "30112/66992 [============>.................] - ETA: 2:20 - loss: 0.4957 - acc: 0.7559"
     ]
    },
    {
     "ename": "KeyboardInterrupt",
     "evalue": "",
     "output_type": "error",
     "traceback": [
      "\u001b[1;31m---------------------------------------------------------------------------\u001b[0m",
      "\u001b[1;31mKeyboardInterrupt\u001b[0m                         Traceback (most recent call last)",
      "\u001b[1;32m<ipython-input-45-d86339a35c59>\u001b[0m in \u001b[0;36m<module>\u001b[1;34m()\u001b[0m\n\u001b[0;32m      1\u001b[0m \u001b[0mbatch_size\u001b[0m \u001b[1;33m=\u001b[0m \u001b[1;36m32\u001b[0m\u001b[1;33m\u001b[0m\u001b[0m\n\u001b[1;32m----> 2\u001b[1;33m \u001b[0mmodel\u001b[0m\u001b[1;33m.\u001b[0m\u001b[0mfit\u001b[0m\u001b[1;33m(\u001b[0m\u001b[0mX_train\u001b[0m\u001b[1;33m,\u001b[0m \u001b[0mY_train\u001b[0m\u001b[1;33m,\u001b[0m \u001b[0mepochs\u001b[0m \u001b[1;33m=\u001b[0m \u001b[1;36m7\u001b[0m\u001b[1;33m,\u001b[0m \u001b[0mbatch_size\u001b[0m\u001b[1;33m=\u001b[0m\u001b[0mbatch_size\u001b[0m\u001b[1;33m,\u001b[0m \u001b[0mverbose\u001b[0m \u001b[1;33m=\u001b[0m \u001b[1;36m1\u001b[0m\u001b[1;33m)\u001b[0m\u001b[1;33m\u001b[0m\u001b[0m\n\u001b[0m",
      "\u001b[1;32m~\\Anaconda3\\lib\\site-packages\\keras\\engine\\training.py\u001b[0m in \u001b[0;36mfit\u001b[1;34m(self, x, y, batch_size, epochs, verbose, callbacks, validation_split, validation_data, shuffle, class_weight, sample_weight, initial_epoch, steps_per_epoch, validation_steps, **kwargs)\u001b[0m\n\u001b[0;32m   1035\u001b[0m                                         \u001b[0minitial_epoch\u001b[0m\u001b[1;33m=\u001b[0m\u001b[0minitial_epoch\u001b[0m\u001b[1;33m,\u001b[0m\u001b[1;33m\u001b[0m\u001b[0m\n\u001b[0;32m   1036\u001b[0m                                         \u001b[0msteps_per_epoch\u001b[0m\u001b[1;33m=\u001b[0m\u001b[0msteps_per_epoch\u001b[0m\u001b[1;33m,\u001b[0m\u001b[1;33m\u001b[0m\u001b[0m\n\u001b[1;32m-> 1037\u001b[1;33m                                         validation_steps=validation_steps)\n\u001b[0m\u001b[0;32m   1038\u001b[0m \u001b[1;33m\u001b[0m\u001b[0m\n\u001b[0;32m   1039\u001b[0m     def evaluate(self, x=None, y=None,\n",
      "\u001b[1;32m~\\Anaconda3\\lib\\site-packages\\keras\\engine\\training_arrays.py\u001b[0m in \u001b[0;36mfit_loop\u001b[1;34m(model, f, ins, out_labels, batch_size, epochs, verbose, callbacks, val_f, val_ins, shuffle, callback_metrics, initial_epoch, steps_per_epoch, validation_steps)\u001b[0m\n\u001b[0;32m    197\u001b[0m                     \u001b[0mins_batch\u001b[0m\u001b[1;33m[\u001b[0m\u001b[0mi\u001b[0m\u001b[1;33m]\u001b[0m \u001b[1;33m=\u001b[0m \u001b[0mins_batch\u001b[0m\u001b[1;33m[\u001b[0m\u001b[0mi\u001b[0m\u001b[1;33m]\u001b[0m\u001b[1;33m.\u001b[0m\u001b[0mtoarray\u001b[0m\u001b[1;33m(\u001b[0m\u001b[1;33m)\u001b[0m\u001b[1;33m\u001b[0m\u001b[0m\n\u001b[0;32m    198\u001b[0m \u001b[1;33m\u001b[0m\u001b[0m\n\u001b[1;32m--> 199\u001b[1;33m                 \u001b[0mouts\u001b[0m \u001b[1;33m=\u001b[0m \u001b[0mf\u001b[0m\u001b[1;33m(\u001b[0m\u001b[0mins_batch\u001b[0m\u001b[1;33m)\u001b[0m\u001b[1;33m\u001b[0m\u001b[0m\n\u001b[0m\u001b[0;32m    200\u001b[0m                 \u001b[0mouts\u001b[0m \u001b[1;33m=\u001b[0m \u001b[0mto_list\u001b[0m\u001b[1;33m(\u001b[0m\u001b[0mouts\u001b[0m\u001b[1;33m)\u001b[0m\u001b[1;33m\u001b[0m\u001b[0m\n\u001b[0;32m    201\u001b[0m                 \u001b[1;32mfor\u001b[0m \u001b[0ml\u001b[0m\u001b[1;33m,\u001b[0m \u001b[0mo\u001b[0m \u001b[1;32min\u001b[0m \u001b[0mzip\u001b[0m\u001b[1;33m(\u001b[0m\u001b[0mout_labels\u001b[0m\u001b[1;33m,\u001b[0m \u001b[0mouts\u001b[0m\u001b[1;33m)\u001b[0m\u001b[1;33m:\u001b[0m\u001b[1;33m\u001b[0m\u001b[0m\n",
      "\u001b[1;32m~\\Anaconda3\\lib\\site-packages\\keras\\backend\\tensorflow_backend.py\u001b[0m in \u001b[0;36m__call__\u001b[1;34m(self, inputs)\u001b[0m\n\u001b[0;32m   2664\u001b[0m                 \u001b[1;32mreturn\u001b[0m \u001b[0mself\u001b[0m\u001b[1;33m.\u001b[0m\u001b[0m_legacy_call\u001b[0m\u001b[1;33m(\u001b[0m\u001b[0minputs\u001b[0m\u001b[1;33m)\u001b[0m\u001b[1;33m\u001b[0m\u001b[0m\n\u001b[0;32m   2665\u001b[0m \u001b[1;33m\u001b[0m\u001b[0m\n\u001b[1;32m-> 2666\u001b[1;33m             \u001b[1;32mreturn\u001b[0m \u001b[0mself\u001b[0m\u001b[1;33m.\u001b[0m\u001b[0m_call\u001b[0m\u001b[1;33m(\u001b[0m\u001b[0minputs\u001b[0m\u001b[1;33m)\u001b[0m\u001b[1;33m\u001b[0m\u001b[0m\n\u001b[0m\u001b[0;32m   2667\u001b[0m         \u001b[1;32melse\u001b[0m\u001b[1;33m:\u001b[0m\u001b[1;33m\u001b[0m\u001b[0m\n\u001b[0;32m   2668\u001b[0m             \u001b[1;32mif\u001b[0m \u001b[0mpy_any\u001b[0m\u001b[1;33m(\u001b[0m\u001b[0mis_tensor\u001b[0m\u001b[1;33m(\u001b[0m\u001b[0mx\u001b[0m\u001b[1;33m)\u001b[0m \u001b[1;32mfor\u001b[0m \u001b[0mx\u001b[0m \u001b[1;32min\u001b[0m \u001b[0minputs\u001b[0m\u001b[1;33m)\u001b[0m\u001b[1;33m:\u001b[0m\u001b[1;33m\u001b[0m\u001b[0m\n",
      "\u001b[1;32m~\\Anaconda3\\lib\\site-packages\\keras\\backend\\tensorflow_backend.py\u001b[0m in \u001b[0;36m_call\u001b[1;34m(self, inputs)\u001b[0m\n\u001b[0;32m   2634\u001b[0m                                 \u001b[0msymbol_vals\u001b[0m\u001b[1;33m,\u001b[0m\u001b[1;33m\u001b[0m\u001b[0m\n\u001b[0;32m   2635\u001b[0m                                 session)\n\u001b[1;32m-> 2636\u001b[1;33m         \u001b[0mfetched\u001b[0m \u001b[1;33m=\u001b[0m \u001b[0mself\u001b[0m\u001b[1;33m.\u001b[0m\u001b[0m_callable_fn\u001b[0m\u001b[1;33m(\u001b[0m\u001b[1;33m*\u001b[0m\u001b[0marray_vals\u001b[0m\u001b[1;33m)\u001b[0m\u001b[1;33m\u001b[0m\u001b[0m\n\u001b[0m\u001b[0;32m   2637\u001b[0m         \u001b[1;32mreturn\u001b[0m \u001b[0mfetched\u001b[0m\u001b[1;33m[\u001b[0m\u001b[1;33m:\u001b[0m\u001b[0mlen\u001b[0m\u001b[1;33m(\u001b[0m\u001b[0mself\u001b[0m\u001b[1;33m.\u001b[0m\u001b[0moutputs\u001b[0m\u001b[1;33m)\u001b[0m\u001b[1;33m]\u001b[0m\u001b[1;33m\u001b[0m\u001b[0m\n\u001b[0;32m   2638\u001b[0m \u001b[1;33m\u001b[0m\u001b[0m\n",
      "\u001b[1;32m~\\Anaconda3\\lib\\site-packages\\tensorflow\\python\\client\\session.py\u001b[0m in \u001b[0;36m__call__\u001b[1;34m(self, *args, **kwargs)\u001b[0m\n\u001b[0;32m   1380\u001b[0m           ret = tf_session.TF_SessionRunCallable(\n\u001b[0;32m   1381\u001b[0m               \u001b[0mself\u001b[0m\u001b[1;33m.\u001b[0m\u001b[0m_session\u001b[0m\u001b[1;33m.\u001b[0m\u001b[0m_session\u001b[0m\u001b[1;33m,\u001b[0m \u001b[0mself\u001b[0m\u001b[1;33m.\u001b[0m\u001b[0m_handle\u001b[0m\u001b[1;33m,\u001b[0m \u001b[0margs\u001b[0m\u001b[1;33m,\u001b[0m \u001b[0mstatus\u001b[0m\u001b[1;33m,\u001b[0m\u001b[1;33m\u001b[0m\u001b[0m\n\u001b[1;32m-> 1382\u001b[1;33m               run_metadata_ptr)\n\u001b[0m\u001b[0;32m   1383\u001b[0m         \u001b[1;32mif\u001b[0m \u001b[0mrun_metadata\u001b[0m\u001b[1;33m:\u001b[0m\u001b[1;33m\u001b[0m\u001b[0m\n\u001b[0;32m   1384\u001b[0m           \u001b[0mproto_data\u001b[0m \u001b[1;33m=\u001b[0m \u001b[0mtf_session\u001b[0m\u001b[1;33m.\u001b[0m\u001b[0mTF_GetBuffer\u001b[0m\u001b[1;33m(\u001b[0m\u001b[0mrun_metadata_ptr\u001b[0m\u001b[1;33m)\u001b[0m\u001b[1;33m\u001b[0m\u001b[0m\n",
      "\u001b[1;31mKeyboardInterrupt\u001b[0m: "
     ]
    }
   ],
   "source": [
    "batch_size = 32\n",
    "model.fit(X_train, Y_train, epochs = 7, batch_size=batch_size, verbose = 1)"
   ]
  },
  {
   "cell_type": "code",
   "execution_count": 73,
   "metadata": {},
   "outputs": [],
   "source": [
    "model.save('twitter_sentimental_analyze.h5')"
   ]
  },
  {
   "cell_type": "code",
   "execution_count": 60,
   "metadata": {},
   "outputs": [
    {
     "name": "stdout",
     "output_type": "stream",
     "text": [
      "score: 0.49\n",
      "acc: 0.77\n"
     ]
    }
   ],
   "source": [
    "validation_size = 1500\n",
    "\n",
    "X_validate = X_test[-validation_size:]\n",
    "Y_validate = Y_test[-validation_size:]\n",
    "X_test = X_test[:-validation_size]\n",
    "Y_test = Y_test[:-validation_size]\n",
    "score,acc = model.evaluate(X_test, Y_test, verbose = 2, batch_size = batch_size)\n",
    "print(\"score: %.2f\" % (score))\n",
    "print(\"acc: %.2f\" % (acc))"
   ]
  },
  {
   "cell_type": "code",
   "execution_count": 61,
   "metadata": {},
   "outputs": [],
   "source": [
    "predicted = model.predict(X_test)\n",
    "predict = list()\n",
    "test_labels = list()\n",
    "for value in predicted:\n",
    "    predict.append(0 if value[0] < value[1] else 1)\n",
    "for value in Y_test:\n",
    "    test_labels.append(0 if value[0] < value[1] else 1)"
   ]
  },
  {
   "cell_type": "code",
   "execution_count": 62,
   "metadata": {},
   "outputs": [
    {
     "data": {
      "text/plain": [
       "array([[0, 1],\n",
       "       [0, 1],\n",
       "       [1, 0],\n",
       "       ...,\n",
       "       [0, 1],\n",
       "       [1, 0],\n",
       "       [0, 1]], dtype=uint8)"
      ]
     },
     "execution_count": 62,
     "metadata": {},
     "output_type": "execute_result"
    }
   ],
   "source": [
    "Y_test"
   ]
  },
  {
   "cell_type": "code",
   "execution_count": 69,
   "metadata": {},
   "outputs": [
    {
     "name": "stdout",
     "output_type": "stream",
     "text": [
      "[[14198  3462]\n",
      " [ 3826 10011]]\n"
     ]
    },
    {
     "data": {
      "image/png": "[encoded data removed]",
      "text/plain": [
       "<Figure size 576x576 with 2 Axes>"
      ]
     },
     "metadata": {},
     "output_type": "display_data"
    }
   ],
   "source": [
    "%matplotlib inline\n",
    "mat = confusion_matrix(test_labels, predict)\n",
    "plt.figure(figsize=(8, 8))\n",
    "sns.set()\n",
    "sns.heatmap(mat.T, square=True,\n",
    "            xticklabels=np.unique(test_labels),\n",
    "            yticklabels=np.unique(test_labels))\n",
    "# annot=True,\n",
    "plt.xlabel('true label')\n",
    "plt.ylabel('predicted label')\n",
    "# Save confusion matrix to outputs in Workbench\n",
    "# plt.savefig(os.path.join('.', 'outputs', 'confusion_matrix.png'))\n",
    "print(mat)\n",
    "plt.show()"
   ]
  },
  {
   "cell_type": "code",
   "execution_count": 70,
   "metadata": {},
   "outputs": [
    {
     "name": "stdout",
     "output_type": "stream",
     "text": [
      "pos_acc 79.58477508650519 %\n",
      "neg_acc 72.1958925750395 %\n"
     ]
    }
   ],
   "source": [
    "pos_cnt, neg_cnt, pos_correct, neg_correct = 0, 0, 0, 0\n",
    "for x in range(len(X_validate)):\n",
    "    \n",
    "    result = model.predict(X_validate[x].reshape(1,X_test.shape[1]),batch_size=1,verbose = 2)[0]\n",
    "   \n",
    "    if np.argmax(result) == np.argmax(Y_validate[x]):\n",
    "        if np.argmax(Y_validate[x]) == 0:\n",
    "            neg_correct += 1\n",
    "        else:\n",
    "            pos_correct += 1\n",
    "       \n",
    "    if np.argmax(Y_validate[x]) == 0:\n",
    "        neg_cnt += 1\n",
    "    else:\n",
    "        pos_cnt += 1\n",
    "\n",
    "\n",
    "\n",
    "print(\"pos_acc\", pos_correct/pos_cnt*100, \"%\")\n",
    "print(\"neg_acc\", neg_correct/neg_cnt*100, \"%\")"
   ]
  },
  {
   "cell_type": "code",
   "execution_count": 72,
   "metadata": {},
   "outputs": [
    {
     "name": "stdout",
     "output_type": "stream",
     "text": [
      "[[   0    0    0    0    0    0    0    0    0    0    0    0    0    0\n",
      "     0    0    0    0    0    0    0    0    0    0    0    0    0    0\n",
      "     0    0    0    0    0    0    0    0    0    0    0    0    0    0\n",
      "     0    0    0    0    0    0    0    0    0    0    0    0    0    0\n",
      "     0    0    0    0    0    0    0    0    0    0    0    0    0    0\n",
      "     0    0    0  174 1197   15  146   10   64 1362   64   37   15  146]]\n",
      "negative\n"
     ]
    }
   ],
   "source": [
    "twt = ['Meetings: Because none of us is as dumb as all of us.']\n",
    "#vectorizing the tweet by the pre-fitted tokenizer instance\n",
    "twt = tokenizer.texts_to_sequences(twt)\n",
    "#padding the tweet to have exactly the same shape as `embedding_2` input\n",
    "twt = pad_sequences(twt, maxlen=84, dtype='int32', value=0)\n",
    "print(twt)\n",
    "sentiment = model.predict(twt,batch_size=1,verbose = 2)[0]\n",
    "if(np.argmax(sentiment) == 0):\n",
    "    print(\"negative\")\n",
    "elif (np.argmax(sentiment) == 1):\n",
    "    print(\"positive\")"
   ]
  },
  {
   "cell_type": "code",
   "execution_count": null,
   "metadata": {},
   "outputs": [],
   "source": []
  }
 ],
 "metadata": {
  "kernelspec": {
   "display_name": "Python 3",
   "language": "python",
   "name": "python3"
  },
  "language_info": {
   "codemirror_mode": {
    "name": "ipython",
    "version": 3
   },
   "file_extension": ".py",
   "mimetype": "text/x-python",
   "name": "python",
   "nbconvert_exporter": "python",
   "pygments_lexer": "ipython3",
   "version": "3.6.5"
  }
 },
 "nbformat": 4,
 "nbformat_minor": 2
}
