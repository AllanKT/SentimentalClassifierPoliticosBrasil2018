{
 "cells": [
  {
   "cell_type": "markdown",
   "metadata": {},
   "source": [
    "# Trabalho de Inteligência Artificial 2 - IESB\n",
    "\n",
    "## Classificação de Sentimento em Twitters sobre os candidatos a presidência do Brasil - 2018\n",
    "\n",
    "Este trabalho tem como objetivo analizar os sentimentos de twitters realizados sobre os candidatos a presidência do Brasil em 2018 entre textos com mensagens positivas ou negativas, e exemplificar em gráficos as analizes dos mesmos de forma individual.\n",
    "\n",
    "### Candidatos a presidência 2018\n",
    "\n",
    "+ Jair Bolsonaro (PSL) – 17\n",
    "+ Fernando Haddad (PT) – 13\n",
    "+ Ciro Gomes (PDT) – 12\n",
    "+ Geraldo Alckmin (PSDB) – 45\n",
    "+ Marina Silva (Rede) – 18\n",
    "+ Alvaro Dias (Podemos) – 19\n",
    "+ Henrique Meirelles (MDB) – 15\n",
    "+ João Amoêdo (Novo) – 30\n",
    "+ Guilherme Boulos (PSOL) – 50\n",
    "+ José Maria Eymael (Democracia Cristã) – 27\n",
    "+ Cabo Daciolo (Patriota) – 51\n",
    "+ João Goulart Filho (PPL) – 54\n",
    "+ Vera Lucia (PSTU) – 16"
   ]
  },
  {
   "cell_type": "markdown",
   "metadata": {},
   "source": [
    "# Bibliotecas utilizadas no projeto"
   ]
  },
  {
   "cell_type": "code",
   "execution_count": 1,
   "metadata": {},
   "outputs": [
    {
     "name": "stderr",
     "output_type": "stream",
     "text": [
      "Using TensorFlow backend.\n"
     ]
    }
   ],
   "source": [
    "#from tweepy.streaming import StreamListener\n",
    "#from tweepy import OAuthHandler, Stream\n",
    "import time\n",
    "from pprint import pprint\n",
    "import json\n",
    "\n",
    "# This Python 3 environment comes with many helpful analytics libraries installed\n",
    "# It is defined by the kaggle/python docker image: https://github.com/kaggle/docker-python\n",
    "# For example, here's several helpful packages to load in \n",
    "\n",
    "import matplotlib.pyplot as plt\n",
    "import numpy as np # linear algebra\n",
    "import pandas as pd # data processing, CSV file I/O (e.g. pd.read_csv)\n",
    "\n",
    "import seaborn as sns\n",
    "from sklearn.metrics import classification_report, confusion_matrix\n",
    "from sklearn.feature_extraction.text import CountVectorizer\n",
    "from keras.preprocessing.text import Tokenizer\n",
    "from keras.preprocessing.sequence import pad_sequences\n",
    "from keras.models import Sequential\n",
    "from keras.layers import Dense, Embedding, LSTM, SpatialDropout1D\n",
    "from sklearn.model_selection import train_test_split\n",
    "from keras.utils.np_utils import to_categorical\n",
    "import re\n",
    "import nltk\n",
    "from nltk.corpus import stopwords \n",
    "from nltk.stem.lancaster import LancasterStemmer\n",
    "\n",
    "# Input data files are available in the \"../input/\" directory.\n",
    "# For example, running this (by clicking run or pressing Shift+Enter) will list the files in the input directory"
   ]
  },
  {
   "cell_type": "code",
   "execution_count": 2,
   "metadata": {},
   "outputs": [
    {
     "name": "stdout",
     "output_type": "stream",
     "text": [
      "[nltk_data] Downloading package stopwords to\n",
      "[nltk_data]     C:\\Users\\akteotonio\\AppData\\Roaming\\nltk_data...\n",
      "[nltk_data]   Package stopwords is already up-to-date!\n",
      "[nltk_data] Error loading steaming: Package 'steaming' not found in\n",
      "[nltk_data]     index\n"
     ]
    },
    {
     "data": {
      "text/plain": [
       "False"
      ]
     },
     "execution_count": 2,
     "metadata": {},
     "output_type": "execute_result"
    }
   ],
   "source": [
    "nltk.download('stopwords')\n",
    "nltk.download('steaming')"
   ]
  },
  {
   "cell_type": "markdown",
   "metadata": {},
   "source": [
    "#  Web Crawler\n",
    "\n",
    "Utilizando a biblioteca [Tweepy] [link1] e a autorização do Twitter para utilizar sua [API] [link2], foi realizado um web crawler, buscando localizar 1000 com os termos listados abaixo. O tempo de execução de cada busca está listado abaixo de cada termo.\n",
    "\n",
    "O processador utilizado foi um Intel(R) Core(TM) i5-6200U CPU @ 2.30GHz 2.40 GHz.\n",
    "\n",
    "#### Termos:\n",
    "\n",
    "+ 'Bolsonaro'\n",
    "    * inicio: 1539456861.4597087\n",
    "    * fim: 1539456958.9965942\n",
    "    * total: 97.53688549995422\n",
    "+ 'Haddad'\n",
    "    * inicio: 1539456613.1283784\n",
    "    * fim:    1539456791.6778507\n",
    "    * total:  178.54947233200073\n",
    "+ 'Ciro'\n",
    "    * inicio: 1539456323.9065177\n",
    "    * fim: 1539458030.606718\n",
    "    * total: 1706.7002003192902\n",
    "+ 'Alckmin'\n",
    "    * inicio: 1539458055.8657103\n",
    "    * fim: 1539461812.2720942\n",
    "    * total: 3756.4063839912415\n",
    "+ 'Marina Silva'\n",
    "+ 'Alvaro Dias'\n",
    "+ 'Meirelles'\n",
    "+ 'Amoêdo'\n",
    "+ 'Boulos'\n",
    "    * inicio: 1539462744.8071775\n",
    "    * fim: 1539465263.4699695\n",
    "    * total: 2518.662791967392\n",
    "+ 'Eymael'\n",
    "+ 'Daciolo'\n",
    "+ 'Goulart'\n",
    "+ 'Vera Lucia'\n",
    "\n",
    "##### OBS: O código utilizado para realizar o crawler está localizado abaixo\n",
    "\n",
    "[link1]: https://github.com/tweepy/tweepy\n",
    "[link2]: https://developer.twitter.com"
   ]
  },
  {
   "cell_type": "code",
   "execution_count": 7,
   "metadata": {},
   "outputs": [],
   "source": [
    "# Variaveis de permição concedidas pelo Twitter à desenvolvedores\n",
    "access_token = \"\" \n",
    "access_token_secret = \"\"\n",
    "consumer_key = \"\"\n",
    "consumer_secret = \"\"\n",
    "\n",
    "# Termo que será crawleado\n",
    "candidato = \"\"\n",
    "\n",
    "# Classe que herda de StreamListener para realizar o Crawler\n",
    "class StdoutListener(StreamListener):\n",
    "\traw_data = {'text':[], 'candidato':[]}\n",
    "\tdef on_data(self, data):\n",
    "\t\ttry:\n",
    "            # Cria duas colunas no dataset: Text e Candidato\n",
    "\t\t\tself.raw_data['text'].append(json.loads(data)['text'])\n",
    "\t\t\tself.raw_data['candidato'].append(candidato)\n",
    "            # Caso já tenham sido capturadas 10000 twitters, o csv é salvo no diretorio indicado\n",
    "\t\t\tif len(self.raw_data['text']) == 1000:\n",
    "\t\t\t\tpprint(self.raw_data)\n",
    "\t\t\t\tdf = pd.DataFrame(self.raw_data, columns = ['candidato', 'text'])\n",
    "\t\t\t\tdf.to_csv(candidato+'.csv')\n",
    "\t\t\treturn True\n",
    "\t\texcept BaseException as e:\n",
    "\t\t\tprint(str(e))\n",
    "\t\t\ttime.sleep(5)\n",
    "\n",
    "\tdef on_error(self, status):\n",
    "\t\tprint(status)\n",
    "\n",
    "if __name__ == \"__main__\":\n",
    "\ttwiteer = StdoutListener() # Instância do Objeto\n",
    "    # Inserindo credênciais de autorização\n",
    "\tauth = OAuthHandler(consumer_key, consumer_secret) \n",
    "\tauth.set_access_token(access_token, access_token_secret)\n",
    "\tstream = Stream(auth, twiteer) # Instânciando objeto de crawler\n",
    "\tstream.filter(track=[candidato]) # Definindo termo que será utilizado para pesquisa"
   ]
  },
  {
   "cell_type": "markdown",
   "metadata": {},
   "source": [
    "# Leitura do dataset\n",
    "\n",
    "Utilizando o dataset disponivel [neste link] [link1], que possui 99989 twitters, tentamos realizar o treinamento de nossa rede neural.\n",
    "\n",
    "O dataset possui três colunas: \n",
    "\n",
    "#### Colunas:\n",
    "\n",
    "+ 'ItemID'\n",
    "    * Representa o id da linha. Este foi retirado no momento de leitura\n",
    "+ 'Sentiment'\n",
    "    * Este define o sentimento do twitter entre 0(NEGATIVO) ou 1(POSITIVO)\n",
    "+ 'SentimentText'\n",
    "    * Aqui encontra-se o texto do twitter em si\n",
    "    \n",
    "|ItemID|Sentiment|SentimentText|\n",
    "|------|------|------|\n",
    "|1  |0  |text  |\n",
    "|2  |1  |text  | \n",
    "|3  |0  |text  | \n",
    "|...  |...  |...  | \n",
    "\n",
    "[link1]: https://www.kaggle.com/c/twitter-sentiment-analysis2"
   ]
  },
  {
   "cell_type": "code",
   "execution_count": 3,
   "metadata": {},
   "outputs": [
    {
     "data": {
      "text/html": [
       "<div>\n",
       "<table border=\"1\" class=\"dataframe\">\n",
       "  <thead>\n",
       "    <tr style=\"text-align: right;\">\n",
       "      <th></th>\n",
       "      <th>Sentiment</th>\n",
       "      <th>SentimentText</th>\n",
       "    </tr>\n",
       "  </thead>\n",
       "  <tbody>\n",
       "    <tr>\n",
       "      <th>0</th>\n",
       "      <td>0</td>\n",
       "      <td>is so sad for my APL frie...</td>\n",
       "    </tr>\n",
       "    <tr>\n",
       "      <th>1</th>\n",
       "      <td>0</td>\n",
       "      <td>I missed the New Moon trail...</td>\n",
       "    </tr>\n",
       "    <tr>\n",
       "      <th>2</th>\n",
       "      <td>1</td>\n",
       "      <td>omg its already 7:30 :O</td>\n",
       "    </tr>\n",
       "    <tr>\n",
       "      <th>3</th>\n",
       "      <td>0</td>\n",
       "      <td>.. Omgaga. Im sooo  im gunna CRy. I'...</td>\n",
       "    </tr>\n",
       "    <tr>\n",
       "      <th>4</th>\n",
       "      <td>0</td>\n",
       "      <td>i think mi bf is cheating on me!!!   ...</td>\n",
       "    </tr>\n",
       "  </tbody>\n",
       "</table>\n",
       "</div>"
      ],
      "text/plain": [
       "   Sentiment                                      SentimentText\n",
       "0          0                       is so sad for my APL frie...\n",
       "1          0                     I missed the New Moon trail...\n",
       "2          1                            omg its already 7:30 :O\n",
       "3          0            .. Omgaga. Im sooo  im gunna CRy. I'...\n",
       "4          0           i think mi bf is cheating on me!!!   ..."
      ]
     },
     "execution_count": 3,
     "metadata": {},
     "output_type": "execute_result"
    }
   ],
   "source": [
    "import pandas as pd\n",
    "data = pd.read_csv('train.csv', encoding='latin-1')\n",
    "data = data.drop(['ItemID'], axis=1)\n",
    "data.head()"
   ]
  },
  {
   "cell_type": "code",
   "execution_count": 4,
   "metadata": {},
   "outputs": [
    {
     "data": {
      "text/plain": [
       "1    56457\n",
       "0    43532\n",
       "Name: Sentiment, dtype: int64"
      ]
     },
     "execution_count": 4,
     "metadata": {},
     "output_type": "execute_result"
    }
   ],
   "source": [
    "data.Sentiment.value_counts()"
   ]
  },
  {
   "cell_type": "code",
   "execution_count": 5,
   "metadata": {},
   "outputs": [
    {
     "data": {
      "text/plain": [
       "<matplotlib.axes._subplots.AxesSubplot at 0x205e9e4a240>"
      ]
     },
     "execution_count": 5,
     "metadata": {},
     "output_type": "execute_result"
    },
    {
     "data": {
      "image/png": "[encoded data removed]",
      "text/plain": [
       "<Figure size 432x288 with 1 Axes>"
      ]
     },
     "metadata": {},
     "output_type": "display_data"
    }
   ],
   "source": [
    "data.Sentiment.plot.hist(bins=3, alpha=0.5)"
   ]
  },
  {
   "cell_type": "code",
   "execution_count": 6,
   "metadata": {},
   "outputs": [
    {
     "data": {
      "text/plain": [
       "(99989, 2)"
      ]
     },
     "execution_count": 6,
     "metadata": {},
     "output_type": "execute_result"
    }
   ],
   "source": [
    "data.shape"
   ]
  },
  {
   "cell_type": "code",
   "execution_count": 7,
   "metadata": {},
   "outputs": [
    {
     "name": "stdout",
     "output_type": "stream",
     "text": [
      "Total de textos a serem analizados: 99989\n",
      "Total de termos sem repetição: 99989\n"
     ]
    }
   ],
   "source": [
    "print('Total de textos a serem analizados:', data.SentimentText.value_counts().size)\n",
    "print('Total de termos sem repetição:', data.SentimentText.unique().size)"
   ]
  },
  {
   "cell_type": "markdown",
   "metadata": {},
   "source": [
    "# Tratamento dos dados\n",
    "\n",
    "Nesta etapa utilizaremos as bibliotecas re e nltk do python para tratar nossos dados antes de utiliza-los em nossa rede neural, seguindo diversas etapas afim de melhorar nossa acurácia.\n",
    "\n",
    "Ápos o tratamento realizaremos a tokenização de nossos twitters com keras, transformando-os em valores numericos, para efetivamente serem jogados na rede neural.\n",
    "\n",
    "#### Etapas de tratamento:\n",
    "\n",
    "+ Palavras com caracteres minusculos\n",
    "+ Remoções:\n",
    "    * Pontuação\n",
    "    * Caracteres repetidos\n",
    "    * StopWords\n",
    "    * Nomes próprios\n",
    "    * Valores numericos\n",
    "    * Links, emails e URLs\n",
    "    * Usernames\n",
    "+ Tokenization\n",
    "+ Steamization ou Lammetization\n",
    "+ Concatenação"
   ]
  },
  {
   "cell_type": "code",
   "execution_count": 8,
   "metadata": {},
   "outputs": [],
   "source": [
    "def words_to_lower(data):\n",
    "    return data.SentimentText.apply(lambda x: x.lower())\n",
    "\n",
    "def remove_username(data):\n",
    "    return data.SentimentText.apply(lambda x: re.sub(r'@[\\w\\.-]+','',x))\n",
    "\n",
    "def remove_email(data):\n",
    "    return data.SentimentText.apply(lambda x: re.sub(r'[\\w\\.-]+@[\\w\\.-]+','',x))\n",
    "\n",
    "def remove_url(data):\n",
    "    return data.SentimentText.apply(lambda x: re.sub(r'^https?:\\/\\/.*[\\r\\n]*','',x))\n",
    "\n",
    "def remove_number(data):\n",
    "    return data.SentimentText.apply(lambda x: re.sub(r'[0-9]','',x))\n",
    "\n",
    "def remove_pontuation(data):\n",
    "    return data.SentimentText.apply(lambda x: re.sub(r'[^a-zA-z\\s]','',x))\n",
    "\n",
    "def remove_repeated_character(data):\n",
    "    return data.SentimentText.apply(lambda x: re.sub(r\"(\\w)\\1*\", r'\\1', x))\n",
    "\n",
    "def tokenizer(data):\n",
    "    return data.SentimentText.apply(lambda x: nltk.word_tokenize(x))\n",
    "\n",
    "def remove_stopword(data):\n",
    "    stop_words = set(stopwords.words('english'))\n",
    "    return data.SentimentText.apply(lambda x: [j for j in x if not j in stop_words])\n",
    "\n",
    "def stemming(data):\n",
    "    stem = LancasterStemmer()\n",
    "    return data.SentimentText.apply(lambda x: [stem.stem(j) for j in x])\n",
    "\n",
    "def concat(data):\n",
    "    return data.SentimentText.apply(lambda x: \" \".join(x))"
   ]
  },
  {
   "cell_type": "code",
   "execution_count": 9,
   "metadata": {},
   "outputs": [],
   "source": [
    "data.SentimentText = words_to_lower(data)\n",
    "data.SentimentText = remove_username(data)\n",
    "data.SentimentText = remove_number(data)\n",
    "data.SentimentText = remove_pontuation(data)\n",
    "data.SentimentText = remove_repeated_character(data)\n",
    "data.SentimentText = tokenizer(data)\n",
    "data.SentimentText = remove_stopword(data)\n",
    "data.SentimentText = stemming(data)\n",
    "data.SentimentText = concat(data)"
   ]
  },
  {
   "cell_type": "code",
   "execution_count": 10,
   "metadata": {},
   "outputs": [
    {
     "data": {
      "text/html": [
       "<div>\n",
       "<table border=\"1\" class=\"dataframe\">\n",
       "  <thead>\n",
       "    <tr style=\"text-align: right;\">\n",
       "      <th></th>\n",
       "      <th>Sentiment</th>\n",
       "      <th>SentimentText</th>\n",
       "    </tr>\n",
       "  </thead>\n",
       "  <tbody>\n",
       "    <tr>\n",
       "      <th>0</th>\n",
       "      <td>0</td>\n",
       "      <td>sad apl friend</td>\n",
       "    </tr>\n",
       "    <tr>\n",
       "      <th>1</th>\n",
       "      <td>0</td>\n",
       "      <td>mis new mon trail</td>\n",
       "    </tr>\n",
       "    <tr>\n",
       "      <th>2</th>\n",
       "      <td>1</td>\n",
       "      <td>omg already</td>\n",
       "    </tr>\n",
       "    <tr>\n",
       "      <th>3</th>\n",
       "      <td>0</td>\n",
       "      <td>omgag im im gun cry iv ben dent sint supos get...</td>\n",
       "    </tr>\n",
       "    <tr>\n",
       "      <th>4</th>\n",
       "      <td>0</td>\n",
       "      <td>think mi bf che t_t</td>\n",
       "    </tr>\n",
       "  </tbody>\n",
       "</table>\n",
       "</div>"
      ],
      "text/plain": [
       "   Sentiment                                      SentimentText\n",
       "0          0                                     sad apl friend\n",
       "1          0                                  mis new mon trail\n",
       "2          1                                        omg already\n",
       "3          0  omgag im im gun cry iv ben dent sint supos get...\n",
       "4          0                                think mi bf che t_t"
      ]
     },
     "execution_count": 10,
     "metadata": {},
     "output_type": "execute_result"
    }
   ],
   "source": [
    "data.head()"
   ]
  },
  {
   "cell_type": "code",
   "execution_count": null,
   "metadata": {},
   "outputs": [],
   "source": [
    "#data = data[data.sentiment != \"Neutral\"]\n",
    "#data['SentimentText'] = data['SentimentText'].apply(lambda x: x.lower())\n",
    "#data['SentimentText'] = data['SentimentText'].apply((lambda x: re.sub('[^a-zA-z0-9\\s]','',x)))\n",
    "\n",
    "#print(data[ data['Sentiment'] == 1].size)\n",
    "#print(data[ data['Sentiment'] == 0].size)\n",
    "\n",
    "#for idx,row in data.iterrows():\n",
    "#    row[0] = row[0].replace('rt',' ')"
   ]
  },
  {
   "cell_type": "code",
   "execution_count": 11,
   "metadata": {},
   "outputs": [],
   "source": [
    "max_fatures = 2000\n",
    "tokenizer = Tokenizer(num_words=max_fatures, split=' ')\n",
    "tokenizer.fit_on_texts(data.SentimentText.values)\n",
    "X = tokenizer.texts_to_sequences(data.SentimentText.values)\n",
    "X = pad_sequences(X)"
   ]
  },
  {
   "cell_type": "code",
   "execution_count": 12,
   "metadata": {},
   "outputs": [
    {
     "name": "stdout",
     "output_type": "stream",
     "text": [
      "_________________________________________________________________\n",
      "Layer (type)                 Output Shape              Param #   \n",
      "=================================================================\n",
      "embedding_1 (Embedding)      (None, 53, 128)           256000    \n",
      "_________________________________________________________________\n",
      "spatial_dropout1d_1 (Spatial (None, 53, 128)           0         \n",
      "_________________________________________________________________\n",
      "lstm_1 (LSTM)                (None, 196)               254800    \n",
      "_________________________________________________________________\n",
      "dense_1 (Dense)              (None, 2)                 394       \n",
      "=================================================================\n",
      "Total params: 511,194\n",
      "Trainable params: 511,194\n",
      "Non-trainable params: 0\n",
      "_________________________________________________________________\n",
      "None\n"
     ]
    }
   ],
   "source": [
    "embed_dim = 128\n",
    "lstm_out = 196\n",
    "\n",
    "model = Sequential()\n",
    "model.add(Embedding(max_fatures, embed_dim,input_length = X.shape[1]))\n",
    "model.add(SpatialDropout1D(0.4))\n",
    "model.add(LSTM(lstm_out, dropout=0.2, recurrent_dropout=0.2))\n",
    "model.add(Dense(2,activation='softmax'))\n",
    "model.compile(loss = 'categorical_crossentropy', optimizer='adam',metrics = ['accuracy'])\n",
    "print(model.summary())"
   ]
  },
  {
   "cell_type": "markdown",
   "metadata": {},
   "source": [
    "#### Dense \n",
    "implements the operation: output = activation(dot(input, kernel) + bias) where activation is the element-wise activation function passed as the activation argument, kernel is a weights matrix created by the layer, and bias is a bias vector created by the layer (only applicable if use_bias is True).\n",
    "\n",
    "#### Dropout \n",
    "consists in randomly setting a fraction rate of input units to 0 at each update during training time, which helps prevent overfitting.\n",
    "\n",
    "#### lambda \n",
    "Wraps arbitrary expression as a Layer object.\n",
    "\n",
    "#### Batch normalization layer (Ioffe and Szegedy, 2014).\n",
    "Normalize the activations of the previous layer at each batch, i.e. applies a transformation that maintains the mean activation close to 0 and the activation standard deviation close to 1.\n",
    "\n",
    "#### ReLU \n",
    "The Rectified Linear Unit computes the function f(x)=max(0,x)f(x)=max(0,x). In other words, the activation is simply thresholded at zero (see image above on the left)."
   ]
  },
  {
   "cell_type": "code",
   "execution_count": 47,
   "metadata": {},
   "outputs": [
    {
     "name": "stdout",
     "output_type": "stream",
     "text": [
      "(66992, 53) (66992, 2)\n",
      "(32997, 53) (32997, 2)\n"
     ]
    }
   ],
   "source": [
    "Y = pd.get_dummies(data['Sentiment']).values\n",
    "X_train, X_test, Y_train, Y_test = train_test_split(X,Y, test_size = 0.33, random_state = 42)\n",
    "print(X_train.shape,Y_train.shape)\n",
    "print(X_test.shape,Y_test.shape)"
   ]
  },
  {
   "cell_type": "code",
   "execution_count": 55,
   "metadata": {},
   "outputs": [
    {
     "name": "stdout",
     "output_type": "stream",
     "text": [
      "Epoch 1/7\n",
      "66992/66992 [==============================] - 251s 4ms/step - loss: 0.4409 - acc: 0.7885\n",
      "Epoch 2/7\n",
      "66992/66992 [==============================] - 250s 4ms/step - loss: 0.4303 - acc: 0.7938\n",
      "Epoch 3/7\n",
      "66992/66992 [==============================] - 238s 4ms/step - loss: 0.4203 - acc: 0.8003\n",
      "Epoch 4/7\n",
      "66992/66992 [==============================] - 242s 4ms/step - loss: 0.4082 - acc: 0.8069\n",
      "Epoch 5/7\n",
      "66992/66992 [==============================] - 266s 4ms/step - loss: 0.3980 - acc: 0.8146\n",
      "Epoch 6/7\n",
      "66992/66992 [==============================] - 236s 4ms/step - loss: 0.3876 - acc: 0.8174ETA: 0s - loss: 0.3876 - acc: 0.817\n",
      "Epoch 7/7\n",
      "66992/66992 [==============================] - 241s 4ms/step - loss: 0.3758 - acc: 0.8248\n"
     ]
    }
   ],
   "source": [
    "batch_size = 32\n",
    "history = model.fit(X_train, Y_train, epochs = 7, batch_size=batch_size, verbose = 1)"
   ]
  },
  {
   "cell_type": "code",
   "execution_count": 95,
   "metadata": {},
   "outputs": [],
   "source": [
    "def plt_history(name, color, index):\n",
    "    plt.figure()\n",
    "    plt.title('Model '+name)\n",
    "    plt.xlabel('Epoch')\n",
    "    plt.ylabel(name)\n",
    "    plt.plot(history.epoch, np.array(history.history[index]), color=color)"
   ]
  },
  {
   "cell_type": "code",
   "execution_count": 97,
   "metadata": {},
   "outputs": [
    {
     "data": {
      "image/png": "[encoded data removed]",
      "text/plain": [
       "<Figure size 432x288 with 1 Axes>"
      ]
     },
     "metadata": {},
     "output_type": "display_data"
    }
   ],
   "source": [
    "plt_history(\"Acurancy\", \"blue\", \"acc\")"
   ]
  },
  {
   "cell_type": "code",
   "execution_count": 98,
   "metadata": {},
   "outputs": [
    {
     "data": {
      "image/png": "[encoded data removed]",
      "text/plain": [
       "<Figure size 432x288 with 1 Axes>"
      ]
     },
     "metadata": {},
     "output_type": "display_data"
    }
   ],
   "source": [
    "plt_history(\"Loss\", \"green\", \"loss\")"
   ]
  },
  {
   "cell_type": "code",
   "execution_count": 123,
   "metadata": {},
   "outputs": [],
   "source": [
    "test_predictions = model.predict(X_test)"
   ]
  },
  {
   "cell_type": "code",
   "execution_count": 124,
   "metadata": {},
   "outputs": [
    {
     "data": {
      "text/plain": [
       "array([[0.44495124, 0.5550488 ],\n",
       "       [0.00523237, 0.99476767],\n",
       "       [0.9880918 , 0.01190824],\n",
       "       ...,\n",
       "       [0.9842551 , 0.01574489],\n",
       "       [0.8503505 , 0.14964949],\n",
       "       [0.5983476 , 0.40165237]], dtype=float32)"
      ]
     },
     "execution_count": 124,
     "metadata": {},
     "output_type": "execute_result"
    }
   ],
   "source": [
    "test_predictions"
   ]
  },
  {
   "cell_type": "code",
   "execution_count": 125,
   "metadata": {},
   "outputs": [],
   "source": [
    "model.save('twitter_sentimental_analyze.h5')"
   ]
  },
  {
   "cell_type": "code",
   "execution_count": 126,
   "metadata": {
    "scrolled": false
   },
   "outputs": [
    {
     "name": "stdout",
     "output_type": "stream",
     "text": [
      "score: 0.61\n",
      "acc: 0.73\n"
     ]
    }
   ],
   "source": [
    "validation_size = 1500\n",
    "\n",
    "X_validate = X_test[-validation_size:]\n",
    "Y_validate = Y_test[-validation_size:]\n",
    "X_test = X_test[:-validation_size]\n",
    "Y_test = Y_test[:-validation_size]\n",
    "score,acc = model.evaluate(X_test, Y_test, verbose = 2, batch_size = batch_size)\n",
    "print(\"score: %.2f\" % (score))\n",
    "print(\"acc: %.2f\" % (acc))"
   ]
  },
  {
   "cell_type": "code",
   "execution_count": 127,
   "metadata": {},
   "outputs": [],
   "source": [
    "predicted = model.predict(X_test)\n",
    "predict = list()\n",
    "test_labels = list()\n",
    "for value in predicted:\n",
    "    predict.append(0 if value[0] < value[1] else 1)\n",
    "for value in Y_test:\n",
    "    test_labels.append(0 if value[0] < value[1] else 1)"
   ]
  },
  {
   "cell_type": "code",
   "execution_count": 128,
   "metadata": {},
   "outputs": [
    {
     "data": {
      "text/plain": [
       "array([[0, 1],\n",
       "       [0, 1],\n",
       "       [1, 0],\n",
       "       ...,\n",
       "       [0, 1],\n",
       "       [1, 0],\n",
       "       [0, 1]], dtype=uint8)"
      ]
     },
     "execution_count": 128,
     "metadata": {},
     "output_type": "execute_result"
    }
   ],
   "source": [
    "Y_test"
   ]
  },
  {
   "cell_type": "code",
   "execution_count": 129,
   "metadata": {},
   "outputs": [
    {
     "name": "stdout",
     "output_type": "stream",
     "text": [
      "[[13898  3762]\n",
      " [ 4686  9151]]\n"
     ]
    },
    {
     "data": {
      "image/png": "[encoded data removed]",
      "text/plain": [
       "<Figure size 576x576 with 2 Axes>"
      ]
     },
     "metadata": {},
     "output_type": "display_data"
    }
   ],
   "source": [
    "%matplotlib inline\n",
    "mat = confusion_matrix(test_labels, predict)\n",
    "plt.figure(figsize=(8, 8))\n",
    "sns.set()\n",
    "sns.heatmap(mat.T, square=True,\n",
    "            xticklabels=np.unique(test_labels),\n",
    "            yticklabels=np.unique(test_labels))\n",
    "# annot=True,\n",
    "plt.xlabel('true label')\n",
    "plt.ylabel('predicted label')\n",
    "# Save confusion matrix to outputs in Workbench\n",
    "# plt.savefig(os.path.join('.', 'outputs', 'confusion_matrix.png'))\n",
    "print(mat)\n",
    "plt.show()"
   ]
  },
  {
   "cell_type": "code",
   "execution_count": 130,
   "metadata": {},
   "outputs": [
    {
     "name": "stdout",
     "output_type": "stream",
     "text": [
      "pos_acc 75.89388696655132 %\n",
      "neg_acc 66.35071090047393 %\n"
     ]
    }
   ],
   "source": [
    "pos_cnt, neg_cnt, pos_correct, neg_correct = 0, 0, 0, 0\n",
    "for x in range(len(X_validate)):\n",
    "    \n",
    "    result = model.predict(X_validate[x].reshape(1,X_test.shape[1]),batch_size=1,verbose = 2)[0]\n",
    "   \n",
    "    if np.argmax(result) == np.argmax(Y_validate[x]):\n",
    "        if np.argmax(Y_validate[x]) == 0:\n",
    "            neg_correct += 1\n",
    "        else:\n",
    "            pos_correct += 1\n",
    "       \n",
    "    if np.argmax(Y_validate[x]) == 0:\n",
    "        neg_cnt += 1\n",
    "    else:\n",
    "        pos_cnt += 1\n",
    "\n",
    "print(\"pos_acc\", pos_correct/pos_cnt*100, \"%\")\n",
    "print(\"neg_acc\", neg_correct/neg_cnt*100, \"%\")"
   ]
  },
  {
   "cell_type": "code",
   "execution_count": 135,
   "metadata": {},
   "outputs": [
    {
     "name": "stdout",
     "output_type": "stream",
     "text": [
      "[[   0    0    0    0    0    0    0    0    0    0    0    0    0    0\n",
      "     0    0    0    0    0    0    0    0    0    0    0    0    0    0\n",
      "     0    0    0    0    0    0    0    0    0    0    0    0    0    0\n",
      "     0    0    0    0  320   30 1234 1149 1234  320   30]]\n",
      "negative\n"
     ]
    }
   ],
   "source": [
    "twt = ['Meetings: Because none of us is as dumb as all of us.']\n",
    "#vectorizing the tweet by the pre-fitted tokenizer instance\n",
    "twt = tokenizer.texts_to_sequences(twt)\n",
    "#padding the tweet to have exactly the same shape as `embedding_2` input\n",
    "twt = pad_sequences(twt, maxlen=53, dtype='int32', value=0)\n",
    "print(twt)\n",
    "sentiment = model.predict(twt,batch_size=1,verbose = 2)[0]\n",
    "if(np.argmax(sentiment) == 0):\n",
    "    print(\"negative\")\n",
    "elif (np.argmax(sentiment) == 1):\n",
    "    print(\"positive\")"
   ]
  },
  {
   "cell_type": "code",
   "execution_count": null,
   "metadata": {},
   "outputs": [],
   "source": []
  }
 ],
 "metadata": {
  "kernelspec": {
   "display_name": "Python 3",
   "language": "python",
   "name": "python3"
  },
  "language_info": {
   "codemirror_mode": {
    "name": "ipython",
    "version": 3
   },
   "file_extension": ".py",
   "mimetype": "text/x-python",
   "name": "python",
   "nbconvert_exporter": "python",
   "pygments_lexer": "ipython3",
   "version": "3.6.5"
  }
 },
 "nbformat": 4,
 "nbformat_minor": 2
}
