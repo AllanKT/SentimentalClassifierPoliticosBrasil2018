{
 "cells": [
  {
   "cell_type": "markdown",
   "metadata": {},
   "source": [
    "# Trabalho de Inteligência Artificial 2 - IESB\n",
    "\n",
    "## Classificação de Sentimento em Twitters sobre os candidatos a presidência do Brasil - 2018\n",
    "\n",
    "Este trabalho tem como objetivo analizar os sentimentos de twitters realizados sobre os candidatos a presidência do Brasil em 2018 entre textos com mensagens positivas ou negativas, e exemplificar em gráficos as analizes dos mesmos de forma individual.\n",
    "\n",
    "### Candidatos a presidência 2018\n",
    "\n",
    "+ Jair Bolsonaro (PSL) – 17\n",
    "+ Fernando Haddad (PT) – 13\n",
    "+ Ciro Gomes (PDT) – 12\n",
    "+ Geraldo Alckmin (PSDB) – 45\n",
    "+ Marina Silva (Rede) – 18\n",
    "+ Alvaro Dias (Podemos) – 19\n",
    "+ Henrique Meirelles (MDB) – 15\n",
    "+ João Amoêdo (Novo) – 30\n",
    "+ Guilherme Boulos (PSOL) – 50\n",
    "+ José Maria Eymael (Democracia Cristã) – 27\n",
    "+ Cabo Daciolo (Patriota) – 51\n",
    "+ João Goulart Filho (PPL) – 54\n",
    "+ Vera Lucia (PSTU) – 16"
   ]
  },
  {
   "cell_type": "markdown",
   "metadata": {},
   "source": [
    "# Bibliotecas utilizadas no projeto"
   ]
  },
  {
   "cell_type": "code",
   "execution_count": 1,
   "metadata": {},
   "outputs": [
    {
     "name": "stderr",
     "output_type": "stream",
     "text": [
      "C:\\Users\\Allan\\Anaconda3\\lib\\site-packages\\h5py\\__init__.py:36: FutureWarning: Conversion of the second argument of issubdtype from `float` to `np.floating` is deprecated. In future, it will be treated as `np.float64 == np.dtype(float).type`.\n",
      "  from ._conv import register_converters as _register_converters\n",
      "Using TensorFlow backend.\n"
     ]
    }
   ],
   "source": [
    "from tweepy.streaming import StreamListener\n",
    "from tweepy import OAuthHandler, Stream\n",
    "import time\n",
    "from pprint import pprint\n",
    "import json\n",
    "\n",
    "import matplotlib.pyplot as plt\n",
    "import numpy as np \n",
    "import pandas as pd\n",
    "\n",
    "import seaborn as sns\n",
    "from sklearn.metrics import classification_report, confusion_matrix\n",
    "from sklearn.feature_extraction.text import CountVectorizer\n",
    "from keras.preprocessing.text import Tokenizer\n",
    "from keras.preprocessing.sequence import pad_sequences\n",
    "from keras.models import Sequential\n",
    "from keras.layers import Dense, Embedding, LSTM, SpatialDropout1D\n",
    "from sklearn.model_selection import train_test_split\n",
    "from keras.utils.np_utils import to_categorical\n",
    "import re\n",
    "import nltk\n",
    "from nltk.corpus import stopwords \n",
    "from nltk.stem.lancaster import LancasterStemmer\n",
    "\n",
    "from googletrans import Translator\n",
    "import os"
   ]
  },
  {
   "cell_type": "code",
   "execution_count": 2,
   "metadata": {},
   "outputs": [],
   "source": [
    "nltk.download('stopwords')\n",
    "nltk.download('steaming')"
   ]
  },
  {
   "cell_type": "markdown",
   "metadata": {},
   "source": [
    "#  Web Crawler\n",
    "\n",
    "Utilizando a biblioteca [Tweepy] [link1] e a autorização do Twitter para utilizar sua [API] [link2], foi realizado um web crawler, buscando localizar 1000 com os termos listados abaixo. O tempo de execução de cada busca está listado abaixo de cada termo.\n",
    "\n",
    "O processador utilizado foi um Intel(R) Core(TM) i5-6200U CPU @ 2.30GHz 2.40 GHz.\n",
    "\n",
    "#### Termos:\n",
    "\n",
    "+ 'Bolsonaro'\n",
    "    * inicio: 1539456861.4597087\n",
    "    * fim: 1539456958.9965942\n",
    "    * total: 97.53688549995422\n",
    "+ 'Haddad'\n",
    "    * inicio: 1539456613.1283784\n",
    "    * fim:    1539456791.6778507\n",
    "    * total:  178.54947233200073\n",
    "+ 'Ciro'\n",
    "    * inicio: 1539456323.9065177\n",
    "    * fim: 1539458030.606718\n",
    "    * total: 1706.7002003192902\n",
    "+ 'Alckmin'\n",
    "    * inicio: 1539458055.8657103\n",
    "    * fim: 1539461812.2720942\n",
    "    * total: 3756.4063839912415\n",
    "+ 'Marina Silva'\n",
    "+ 'Alvaro Dias'\n",
    "+ 'Meirelles'\n",
    "+ 'Amoêdo'\n",
    "+ 'Boulos'\n",
    "    * inicio: 1539462744.8071775\n",
    "    * fim: 1539465263.4699695\n",
    "    * total: 2518.662791967392\n",
    "+ 'Eymael'\n",
    "+ 'Daciolo'\n",
    "+ 'Goulart'\n",
    "+ 'Vera Lucia'\n",
    "\n",
    "##### OBS: O código utilizado para realizar o crawler está localizado abaixo\n",
    "\n",
    "[link1]: https://github.com/tweepy/tweepy\n",
    "[link2]: https://developer.twitter.com"
   ]
  },
  {
   "cell_type": "code",
   "execution_count": 3,
   "metadata": {},
   "outputs": [
    {
     "data": {
      "text/plain": [
       "'\\n# Variaveis de permição concedidas pelo Twitter à desenvolvedores\\naccess_token = \"\" \\naccess_token_secret = \"\"\\nconsumer_key = \"\"\\nconsumer_secret = \"\"\\n\\n# Termo que será crawleado\\ncandidato = \"\"\\n\\n# Classe que herda de StreamListener para realizar o Crawler\\nclass StdoutListener(StreamListener):\\n\\traw_data = {\\'text\\':[], \\'candidato\\':[]}\\n\\tdef on_data(self, data):\\n\\t\\ttry:\\n            # Cria duas colunas no dataset: Text e Candidato\\n\\t\\t\\tself.raw_data[\\'text\\'].append(json.loads(data)[\\'text\\'])\\n\\t\\t\\tself.raw_data[\\'candidato\\'].append(candidato)\\n            # Caso já tenham sido capturadas 10000 twitters, o csv é salvo no diretorio indicado\\n\\t\\t\\tif len(self.raw_data[\\'text\\']) == 1000:\\n\\t\\t\\t\\tpprint(self.raw_data)\\n\\t\\t\\t\\tdf = pd.DataFrame(self.raw_data, columns = [\\'candidato\\', \\'text\\'])\\n\\t\\t\\t\\tdf.to_csv(candidato+\\'.csv\\')\\n\\t\\t\\treturn True\\n\\t\\texcept BaseException as e:\\n\\t\\t\\tprint(str(e))\\n\\t\\t\\ttime.sleep(5)\\n\\n\\tdef on_error(self, status):\\n\\t\\tprint(status)\\n\\nif __name__ == \"__main__\":\\n\\ttwiteer = StdoutListener() # Instância do Objeto\\n    # Inserindo credênciais de autorização\\n\\tauth = OAuthHandler(consumer_key, consumer_secret) \\n\\tauth.set_access_token(access_token, access_token_secret)\\n\\tstream = Stream(auth, twiteer) # Instânciando objeto de crawler\\n\\tstream.filter(track=[candidato]) # Definindo termo que será utilizado para pesquisa\\n    '"
      ]
     },
     "execution_count": 3,
     "metadata": {},
     "output_type": "execute_result"
    }
   ],
   "source": [
    "\"\"\"\n",
    "# Variaveis de permição concedidas pelo Twitter à desenvolvedores\n",
    "access_token = \"\" \n",
    "access_token_secret = \"\"\n",
    "consumer_key = \"\"\n",
    "consumer_secret = \"\"\n",
    "\n",
    "# Termo que será crawleado\n",
    "candidato = \"\"\n",
    "\n",
    "# Classe que herda de StreamListener para realizar o Crawler\n",
    "class StdoutListener(StreamListener):\n",
    "\traw_data = {'text':[], 'candidato':[]}\n",
    "\tdef on_data(self, data):\n",
    "\t\ttry:\n",
    "            # Cria duas colunas no dataset: Text e Candidato\n",
    "\t\t\tself.raw_data['text'].append(json.loads(data)['text'])\n",
    "\t\t\tself.raw_data['candidato'].append(candidato)\n",
    "            # Caso já tenham sido capturadas 10000 twitters, o csv é salvo no diretorio indicado\n",
    "\t\t\tif len(self.raw_data['text']) == 1000:\n",
    "\t\t\t\tpprint(self.raw_data)\n",
    "\t\t\t\tdf = pd.DataFrame(self.raw_data, columns = ['candidato', 'text'])\n",
    "\t\t\t\tdf.to_csv(candidato+'.csv')\n",
    "\t\t\treturn True\n",
    "\t\texcept BaseException as e:\n",
    "\t\t\tprint(str(e))\n",
    "\t\t\ttime.sleep(5)\n",
    "\n",
    "\tdef on_error(self, status):\n",
    "\t\tprint(status)\n",
    "\n",
    "if __name__ == \"__main__\":\n",
    "\ttwiteer = StdoutListener() # Instância do Objeto\n",
    "    # Inserindo credênciais de autorização\n",
    "\tauth = OAuthHandler(consumer_key, consumer_secret) \n",
    "\tauth.set_access_token(access_token, access_token_secret)\n",
    "\tstream = Stream(auth, twiteer) # Instânciando objeto de crawler\n",
    "\tstream.filter(track=[candidato]) # Definindo termo que será utilizado para pesquisa\n",
    "    \"\"\""
   ]
  },
  {
   "cell_type": "markdown",
   "metadata": {},
   "source": [
    "# Leitura do dataset\n",
    "\n",
    "Utilizando o dataset disponivel [neste link] [link1], que possui 99989 twitters, tentamos realizar o treinamento de nossa rede neural.\n",
    "\n",
    "O dataset possui três colunas: \n",
    "\n",
    "#### Colunas:\n",
    "\n",
    "+ 'ItemID'\n",
    "    * Representa o id da linha. Este foi retirado no momento de leitura\n",
    "+ 'Sentiment'\n",
    "    * Este define o sentimento do twitter entre 0(NEGATIVO) ou 1(POSITIVO)\n",
    "+ 'SentimentText'\n",
    "    * Aqui encontra-se o texto do twitter em si\n",
    "    \n",
    "|ItemID|Sentiment|SentimentText|\n",
    "|------|------|------|\n",
    "|1  |0  |text  |\n",
    "|2  |1  |text  | \n",
    "|3  |0  |text  | \n",
    "|...  |...  |...  | \n",
    "\n",
    "[link1]: https://www.kaggle.com/c/twitter-sentiment-analysis2"
   ]
  },
  {
   "cell_type": "code",
   "execution_count": 4,
   "metadata": {},
   "outputs": [
    {
     "data": {
      "text/html": [
       "<div>\n",
       "<style scoped>\n",
       "    .dataframe tbody tr th:only-of-type {\n",
       "        vertical-align: middle;\n",
       "    }\n",
       "\n",
       "    .dataframe tbody tr th {\n",
       "        vertical-align: top;\n",
       "    }\n",
       "\n",
       "    .dataframe thead th {\n",
       "        text-align: right;\n",
       "    }\n",
       "</style>\n",
       "<table border=\"1\" class=\"dataframe\">\n",
       "  <thead>\n",
       "    <tr style=\"text-align: right;\">\n",
       "      <th></th>\n",
       "      <th>Sentiment</th>\n",
       "      <th>SentimentText</th>\n",
       "    </tr>\n",
       "  </thead>\n",
       "  <tbody>\n",
       "    <tr>\n",
       "      <th>0</th>\n",
       "      <td>0</td>\n",
       "      <td>is so sad for my APL frie...</td>\n",
       "    </tr>\n",
       "    <tr>\n",
       "      <th>1</th>\n",
       "      <td>0</td>\n",
       "      <td>I missed the New Moon trail...</td>\n",
       "    </tr>\n",
       "    <tr>\n",
       "      <th>2</th>\n",
       "      <td>1</td>\n",
       "      <td>omg its already 7:30 :O</td>\n",
       "    </tr>\n",
       "    <tr>\n",
       "      <th>3</th>\n",
       "      <td>0</td>\n",
       "      <td>.. Omgaga. Im sooo  im gunna CRy. I'...</td>\n",
       "    </tr>\n",
       "    <tr>\n",
       "      <th>4</th>\n",
       "      <td>0</td>\n",
       "      <td>i think mi bf is cheating on me!!!   ...</td>\n",
       "    </tr>\n",
       "  </tbody>\n",
       "</table>\n",
       "</div>"
      ],
      "text/plain": [
       "   Sentiment                                      SentimentText\n",
       "0          0                       is so sad for my APL frie...\n",
       "1          0                     I missed the New Moon trail...\n",
       "2          1                            omg its already 7:30 :O\n",
       "3          0            .. Omgaga. Im sooo  im gunna CRy. I'...\n",
       "4          0           i think mi bf is cheating on me!!!   ..."
      ]
     },
     "execution_count": 4,
     "metadata": {},
     "output_type": "execute_result"
    }
   ],
   "source": [
    "import pandas as pd\n",
    "data = pd.read_csv('train.csv', encoding='latin-1')\n",
    "data = data.drop(['ItemID'], axis=1)\n",
    "data.head()"
   ]
  },
  {
   "cell_type": "code",
   "execution_count": 5,
   "metadata": {},
   "outputs": [
    {
     "data": {
      "text/plain": [
       "1    56457\n",
       "0    43532\n",
       "Name: Sentiment, dtype: int64"
      ]
     },
     "execution_count": 5,
     "metadata": {},
     "output_type": "execute_result"
    }
   ],
   "source": [
    "data.Sentiment.value_counts()"
   ]
  },
  {
   "cell_type": "code",
   "execution_count": 6,
   "metadata": {},
   "outputs": [
    {
     "data": {
      "text/plain": [
       "<matplotlib.axes._subplots.AxesSubplot at 0x18908226588>"
      ]
     },
     "execution_count": 6,
     "metadata": {},
     "output_type": "execute_result"
    },
    {
     "data": {
      "image/png": "[encoded data removed]",
      "text/plain": [
       "<Figure size 432x288 with 1 Axes>"
      ]
     },
     "metadata": {},
     "output_type": "display_data"
    }
   ],
   "source": [
    "data.Sentiment.plot.hist(bins=3, alpha=0.5)"
   ]
  },
  {
   "cell_type": "code",
   "execution_count": 7,
   "metadata": {},
   "outputs": [
    {
     "data": {
      "text/plain": [
       "(99989, 2)"
      ]
     },
     "execution_count": 7,
     "metadata": {},
     "output_type": "execute_result"
    }
   ],
   "source": [
    "data.shape"
   ]
  },
  {
   "cell_type": "code",
   "execution_count": 8,
   "metadata": {},
   "outputs": [
    {
     "name": "stdout",
     "output_type": "stream",
     "text": [
      "Total de textos a serem analizados: 99989\n",
      "Total de termos sem repetição: 99989\n"
     ]
    }
   ],
   "source": [
    "print('Total de textos a serem analizados:', data.SentimentText.value_counts().size)\n",
    "print('Total de termos sem repetição:', data.SentimentText.unique().size)"
   ]
  },
  {
   "cell_type": "markdown",
   "metadata": {},
   "source": [
    "# Tratamento dos dados\n",
    "\n",
    "Nesta etapa utilizaremos as bibliotecas re e nltk do python para tratar nossos dados antes de utiliza-los em nossa rede neural, seguindo diversas etapas afim de melhorar nossa acurácia.\n",
    "\n",
    "Ápos o tratamento realizaremos a tokenização de nossos twitters com keras, transformando-os em valores numericos, para efetivamente serem jogados na rede neural.\n",
    "\n",
    "#### Etapas de tratamento:\n",
    "\n",
    "+ Palavras com caracteres minusculos\n",
    "+ Remoções:\n",
    "    * Pontuação\n",
    "    * Caracteres repetidos\n",
    "    * StopWords\n",
    "    * Nomes próprios\n",
    "    * Valores numericos\n",
    "    * Links, emails e URLs\n",
    "    * Usernames\n",
    "+ Tokenization\n",
    "+ Steamization ou Lammetization\n",
    "+ Concatenação"
   ]
  },
  {
   "cell_type": "code",
   "execution_count": 9,
   "metadata": {},
   "outputs": [],
   "source": [
    "def words_to_lower(data):\n",
    "    return data.SentimentText.apply(lambda x: x.lower())\n",
    "\n",
    "def remove_username(data):\n",
    "    return data.SentimentText.apply(lambda x: re.sub(r'@[\\w\\.-]+','',x))\n",
    "\n",
    "def remove_email(data):\n",
    "    return data.SentimentText.apply(lambda x: re.sub(r'[\\w\\.-]+@[\\w\\.-]+','',x))\n",
    "\n",
    "def remove_url(data):\n",
    "    return data.SentimentText.apply(lambda x: re.sub(r'^https?:\\/\\/.*[\\r\\n]*','',x))\n",
    "\n",
    "def remove_number(data):\n",
    "    return data.SentimentText.apply(lambda x: re.sub(r'[0-9]','',x))\n",
    "\n",
    "def remove_pontuation(data):\n",
    "    return data.SentimentText.apply(lambda x: re.sub(r'[^a-zA-z\\s]','',x))\n",
    "\n",
    "def remove_repeated_character(data):\n",
    "    return data.SentimentText.apply(lambda x: re.sub(r\"(\\w)\\1*\", r'\\1', x))\n",
    "\n",
    "def tokenizing(data):\n",
    "    return data.SentimentText.apply(lambda x: nltk.word_tokenize(x))\n",
    "\n",
    "def remove_stopword(data):\n",
    "    stop_words = set(stopwords.words('english'))\n",
    "    return data.SentimentText.apply(lambda x: [j for j in x if not j in stop_words])\n",
    "\n",
    "def stemming(data):\n",
    "    stem = LancasterStemmer()\n",
    "    return data.SentimentText.apply(lambda x: [stem.stem(j) for j in x])\n",
    "\n",
    "def concat(data):\n",
    "    return data.SentimentText.apply(lambda x: \" \".join(x))"
   ]
  },
  {
   "cell_type": "code",
   "execution_count": 10,
   "metadata": {},
   "outputs": [],
   "source": [
    "data.SentimentText = words_to_lower(data)\n",
    "data.SentimentText = remove_username(data)\n",
    "data.SentimentText = remove_number(data)\n",
    "data.SentimentText = remove_pontuation(data)\n",
    "data.SentimentText = remove_repeated_character(data)\n",
    "data.SentimentText = tokenizing(data)\n",
    "data.SentimentText = remove_stopword(data)\n",
    "data.SentimentText = stemming(data)\n",
    "data.SentimentText = concat(data)"
   ]
  },
  {
   "cell_type": "code",
   "execution_count": 11,
   "metadata": {},
   "outputs": [
    {
     "data": {
      "text/html": [
       "<div>\n",
       "<style scoped>\n",
       "    .dataframe tbody tr th:only-of-type {\n",
       "        vertical-align: middle;\n",
       "    }\n",
       "\n",
       "    .dataframe tbody tr th {\n",
       "        vertical-align: top;\n",
       "    }\n",
       "\n",
       "    .dataframe thead th {\n",
       "        text-align: right;\n",
       "    }\n",
       "</style>\n",
       "<table border=\"1\" class=\"dataframe\">\n",
       "  <thead>\n",
       "    <tr style=\"text-align: right;\">\n",
       "      <th></th>\n",
       "      <th>Sentiment</th>\n",
       "      <th>SentimentText</th>\n",
       "    </tr>\n",
       "  </thead>\n",
       "  <tbody>\n",
       "    <tr>\n",
       "      <th>0</th>\n",
       "      <td>0</td>\n",
       "      <td>sad apl friend</td>\n",
       "    </tr>\n",
       "    <tr>\n",
       "      <th>1</th>\n",
       "      <td>0</td>\n",
       "      <td>mis new mon trail</td>\n",
       "    </tr>\n",
       "    <tr>\n",
       "      <th>2</th>\n",
       "      <td>1</td>\n",
       "      <td>omg already</td>\n",
       "    </tr>\n",
       "    <tr>\n",
       "      <th>3</th>\n",
       "      <td>0</td>\n",
       "      <td>omgag im im gun cry iv ben dent sint supos get...</td>\n",
       "    </tr>\n",
       "    <tr>\n",
       "      <th>4</th>\n",
       "      <td>0</td>\n",
       "      <td>think mi bf che t_t</td>\n",
       "    </tr>\n",
       "  </tbody>\n",
       "</table>\n",
       "</div>"
      ],
      "text/plain": [
       "   Sentiment                                      SentimentText\n",
       "0          0                                     sad apl friend\n",
       "1          0                                  mis new mon trail\n",
       "2          1                                        omg already\n",
       "3          0  omgag im im gun cry iv ben dent sint supos get...\n",
       "4          0                                think mi bf che t_t"
      ]
     },
     "execution_count": 11,
     "metadata": {},
     "output_type": "execute_result"
    }
   ],
   "source": [
    "data.head()"
   ]
  },
  {
   "cell_type": "markdown",
   "metadata": {},
   "source": [
    "# Treinamento\n",
    "\n",
    "Nesta etapa será realizado o treinamento do modelo. Para isso alguns passos devem ser seguidos:\n",
    "\n",
    "#### Etapas de treinamento:\n",
    "\n",
    "+ Tokenização dos Textos e Labels\n",
    "+ Criação do modelo de treino\n",
    "    * Embedding -->> Mapeadas para vetores de números reais\n",
    "    * LSTM(Long short-term memory) -->> Unidades de uma rede neural recorrente\n",
    "    * Dense(Softmax) -->> Layer para que a saída esteja com valores entre 0-1\n",
    "+ Split dos dados em treino e teste\n",
    "+ Treinamento"
   ]
  },
  {
   "cell_type": "code",
   "execution_count": 13,
   "metadata": {},
   "outputs": [],
   "source": [
    "max_fatures = 2000\n",
    "tokenizer = Tokenizer(num_words=max_fatures, split=' ')\n",
    "tokenizer.fit_on_texts(data.SentimentText.values)\n",
    "X = tokenizer.texts_to_sequences(data.SentimentText.values)\n",
    "X = pad_sequences(X)"
   ]
  },
  {
   "cell_type": "code",
   "execution_count": 14,
   "metadata": {},
   "outputs": [
    {
     "name": "stdout",
     "output_type": "stream",
     "text": [
      "_________________________________________________________________\n",
      "Layer (type)                 Output Shape              Param #   \n",
      "=================================================================\n",
      "embedding_1 (Embedding)      (None, 53, 128)           256000    \n",
      "_________________________________________________________________\n",
      "spatial_dropout1d_1 (Spatial (None, 53, 128)           0         \n",
      "_________________________________________________________________\n",
      "lstm_1 (LSTM)                (None, 196)               254800    \n",
      "_________________________________________________________________\n",
      "dense_1 (Dense)              (None, 2)                 394       \n",
      "=================================================================\n",
      "Total params: 511,194\n",
      "Trainable params: 511,194\n",
      "Non-trainable params: 0\n",
      "_________________________________________________________________\n",
      "None\n"
     ]
    }
   ],
   "source": [
    "embed_dim = 128\n",
    "lstm_out = 196\n",
    "\n",
    "model = Sequential()\n",
    "model.add(Embedding(max_fatures, embed_dim,input_length = X.shape[1]))\n",
    "model.add(SpatialDropout1D(0.4))\n",
    "model.add(LSTM(lstm_out, dropout=0.2, recurrent_dropout=0.2))\n",
    "model.add(Dense(2,activation='softmax'))\n",
    "\n",
    "model.compile(loss = 'categorical_crossentropy', optimizer='adam',metrics = ['accuracy'])\n",
    "\n",
    "print(model.summary())"
   ]
  },
  {
   "cell_type": "code",
   "execution_count": 15,
   "metadata": {},
   "outputs": [
    {
     "name": "stdout",
     "output_type": "stream",
     "text": [
      "(66992, 53) (66992, 2)\n",
      "(32997, 53) (32997, 2)\n"
     ]
    }
   ],
   "source": [
    "Y = pd.get_dummies(data['Sentiment']).values\n",
    "X_train, X_test, Y_train, Y_test = train_test_split(X,Y, test_size = 0.33, random_state = 42)\n",
    "print(X_train.shape,Y_train.shape)\n",
    "print(X_test.shape,Y_test.shape)"
   ]
  },
  {
   "cell_type": "code",
   "execution_count": 17,
   "metadata": {},
   "outputs": [
    {
     "name": "stdout",
     "output_type": "stream",
     "text": [
      "Epoch 1/20\n",
      "66992/66992 [==============================] - 275s 4ms/step - loss: 0.5108 - acc: 0.7460\n",
      "Epoch 2/20\n",
      "66992/66992 [==============================] - 261s 4ms/step - loss: 0.4919 - acc: 0.7582\n",
      "Epoch 3/20\n",
      "66992/66992 [==============================] - 249s 4ms/step - loss: 0.4792 - acc: 0.7660\n",
      "Epoch 4/20\n",
      "66992/66992 [==============================] - 250s 4ms/step - loss: 0.4679 - acc: 0.7708\n",
      "Epoch 5/20\n",
      "66992/66992 [==============================] - 250s 4ms/step - loss: 0.4578 - acc: 0.7793\n",
      "Epoch 6/20\n",
      "66992/66992 [==============================] - 251s 4ms/step - loss: 0.4486 - acc: 0.7843\n",
      "Epoch 7/20\n",
      "66992/66992 [==============================] - 250s 4ms/step - loss: 0.4374 - acc: 0.7908\n",
      "Epoch 8/20\n",
      "66992/66992 [==============================] - 251s 4ms/step - loss: 0.4273 - acc: 0.7964\n",
      "Epoch 9/20\n",
      "66992/66992 [==============================] - 252s 4ms/step - loss: 0.4150 - acc: 0.8024\n",
      "Epoch 10/20\n",
      "66992/66992 [==============================] - 251s 4ms/step - loss: 0.4046 - acc: 0.8097\n",
      "Epoch 11/20\n",
      "66992/66992 [==============================] - 253s 4ms/step - loss: 0.3961 - acc: 0.8131\n",
      "Epoch 12/20\n",
      "66992/66992 [==============================] - 294s 4ms/step - loss: 0.3834 - acc: 0.8207\n",
      "Epoch 13/20\n",
      "66992/66992 [==============================] - 285s 4ms/step - loss: 0.3724 - acc: 0.8272\n",
      "Epoch 14/20\n",
      "66992/66992 [==============================] - 293s 4ms/step - loss: 0.3625 - acc: 0.8323\n",
      "Epoch 15/20\n",
      "66992/66992 [==============================] - 274s 4ms/step - loss: 0.3518 - acc: 0.8381\n",
      "Epoch 16/20\n",
      "66992/66992 [==============================] - 255s 4ms/step - loss: 0.3435 - acc: 0.8421\n",
      "Epoch 17/20\n",
      "66992/66992 [==============================] - 285s 4ms/step - loss: 0.3372 - acc: 0.8440\n",
      "Epoch 18/20\n",
      "66992/66992 [==============================] - 274s 4ms/step - loss: 0.3278 - acc: 0.8505\n",
      "Epoch 19/20\n",
      "66992/66992 [==============================] - 248s 4ms/step - loss: 0.3217 - acc: 0.8535\n",
      "Epoch 20/20\n",
      "66992/66992 [==============================] - 259s 4ms/step - loss: 0.3113 - acc: 0.8592\n"
     ]
    }
   ],
   "source": [
    "batch_size = 32\n",
    "history = model.fit(X_train, Y_train, epochs = 20, batch_size=batch_size, verbose = 1)"
   ]
  },
  {
   "cell_type": "code",
   "execution_count": null,
   "metadata": {},
   "outputs": [],
   "source": [
    "model.save('twitter_sentimental_analyze.h5')"
   ]
  },
  {
   "cell_type": "markdown",
   "metadata": {},
   "source": [
    "# Analise do modelo de treino\n",
    "\n",
    "Após a etapa de treino, iremos validar o modelo para verificar se este apresenta bons resultados para dados que não estavam presentes no dataset de treino. \n",
    "\n",
    "#### Etapas de analise:\n",
    "\n",
    "+ Analise do historico\n",
    "+ Validação do score\n",
    "+ Matriz de confusão"
   ]
  },
  {
   "cell_type": "code",
   "execution_count": 18,
   "metadata": {},
   "outputs": [],
   "source": [
    "def plt_history(name, color, index):\n",
    "    plt.figure()\n",
    "    plt.title('Model '+name)\n",
    "    plt.xlabel('Epoch')\n",
    "    plt.ylabel(name)\n",
    "    plt.plot(history.epoch, np.array(history.history[index]), color=color)"
   ]
  },
  {
   "cell_type": "code",
   "execution_count": 19,
   "metadata": {},
   "outputs": [
    {
     "data": {
      "image/png": "[encoded data removed]",
      "text/plain": [
       "<Figure size 432x288 with 1 Axes>"
      ]
     },
     "metadata": {},
     "output_type": "display_data"
    }
   ],
   "source": [
    "plt_history(\"Acurancy\", \"blue\", \"acc\")"
   ]
  },
  {
   "cell_type": "code",
   "execution_count": 20,
   "metadata": {},
   "outputs": [
    {
     "data": {
      "image/png": "[encoded data removed]",
      "text/plain": [
       "<Figure size 432x288 with 1 Axes>"
      ]
     },
     "metadata": {},
     "output_type": "display_data"
    }
   ],
   "source": [
    "plt_history(\"Loss\", \"green\", \"loss\")"
   ]
  },
  {
   "cell_type": "code",
   "execution_count": 22,
   "metadata": {},
   "outputs": [
    {
     "name": "stdout",
     "output_type": "stream",
     "text": [
      "score: 0.73\n",
      "acc: 0.72\n"
     ]
    }
   ],
   "source": [
    "validation_size = 1500\n",
    "\n",
    "X_validate = X_test[-validation_size:]\n",
    "Y_validate = Y_test[-validation_size:]\n",
    "X_test = X_test[:-validation_size]\n",
    "Y_test = Y_test[:-validation_size]\n",
    "score,acc = model.evaluate(X_test, Y_test, verbose = 2, batch_size = batch_size)\n",
    "print(\"score: %.2f\" % (score))\n",
    "print(\"acc: %.2f\" % (acc))"
   ]
  },
  {
   "cell_type": "code",
   "execution_count": 23,
   "metadata": {},
   "outputs": [],
   "source": [
    "predicted = model.predict(X_test)\n",
    "predict = list()\n",
    "test_labels = list()\n",
    "for value in predicted:\n",
    "    predict.append(0 if value[0] < value[1] else 1)\n",
    "for value in Y_test:\n",
    "    test_labels.append(0 if value[0] < value[1] else 1)"
   ]
  },
  {
   "cell_type": "code",
   "execution_count": 24,
   "metadata": {},
   "outputs": [
    {
     "data": {
      "text/plain": [
       "array([[0, 1],\n",
       "       [0, 1],\n",
       "       [1, 0],\n",
       "       ...,\n",
       "       [0, 1],\n",
       "       [1, 0],\n",
       "       [0, 1]], dtype=uint8)"
      ]
     },
     "execution_count": 24,
     "metadata": {},
     "output_type": "execute_result"
    }
   ],
   "source": [
    "Y_test"
   ]
  },
  {
   "cell_type": "code",
   "execution_count": 25,
   "metadata": {},
   "outputs": [
    {
     "name": "stdout",
     "output_type": "stream",
     "text": [
      "[[13465  4195]\n",
      " [ 4518  9319]]\n"
     ]
    },
    {
     "data": {
      "image/png": "[encoded data removed]",
      "text/plain": [
       "<Figure size 576x576 with 2 Axes>"
      ]
     },
     "metadata": {},
     "output_type": "display_data"
    }
   ],
   "source": [
    "%matplotlib inline\n",
    "mat = confusion_matrix(test_labels, predict)\n",
    "plt.figure(figsize=(8, 8))\n",
    "sns.set()\n",
    "sns.heatmap(mat.T, square=True,\n",
    "            xticklabels=np.unique(test_labels),\n",
    "            yticklabels=np.unique(test_labels))\n",
    "# annot=True,\n",
    "plt.xlabel('true label')\n",
    "plt.ylabel('predicted label')\n",
    "# Save confusion matrix to outputs in Workbench\n",
    "# plt.savefig(os.path.join('.', 'outputs', 'confusion_matrix.png'))\n",
    "print(mat)\n",
    "plt.show()"
   ]
  },
  {
   "cell_type": "markdown",
   "metadata": {},
   "source": [
    "# Tratando mensagens crawleadas\n",
    "\n",
    "Após a etapa de treino, iremos validar o modelo para verificar se este apresenta bons resultados para dados que não estavam presentes no dataset de treino. \n",
    "\n",
    "#### Etapas de analise:\n",
    "\n",
    "+ Validação do score\n",
    "+ Matriz de confusão"
   ]
  },
  {
   "cell_type": "code",
   "execution_count": 28,
   "metadata": {},
   "outputs": [],
   "source": [
    "def words_to_lower(data):\n",
    "    return data.Text.apply(lambda x: x.lower())\n",
    "\n",
    "def remove_username(data):\n",
    "    return data.Text.apply(lambda x: re.sub(r'@[\\w\\.-]+','',x))\n",
    "\n",
    "def remove_email(data):\n",
    "    return data.Text.apply(lambda x: re.sub(r'[\\w\\.-]+@[\\w\\.-]+','',x))\n",
    "\n",
    "def remove_url(data):\n",
    "    return data.Text.apply(lambda x: re.sub(r'^https?:\\/\\/.*[\\r\\n]*','',x))\n",
    "\n",
    "def remove_number(data):\n",
    "    return data.Text.apply(lambda x: re.sub(r'[0-9]','',x))\n",
    "\n",
    "def remove_pontuation(data):\n",
    "    return data.Text.apply(lambda x: re.sub(r'[^a-zA-z\\s]','',x))\n",
    "\n",
    "def remove_repeated_character(data):\n",
    "    return data.Text.apply(lambda x: re.sub(r\"(\\w)\\1*\", r'\\1', x))\n",
    "\n",
    "def tokenizing(data):\n",
    "    return data.Text.apply(lambda x: nltk.word_tokenize(x))\n",
    "\n",
    "def remove_stopword(data):\n",
    "    stop_words = set(stopwords.words('english'))\n",
    "    return data.Text.apply(lambda x: [j for j in x if not j in stop_words or j is \"rt\"])\n",
    "\n",
    "def stemming(data):\n",
    "    stem = LancasterStemmer()\n",
    "    return data.Text.apply(lambda x: [stem.stem(j) for j in x])\n",
    "\n",
    "def concat(data):\n",
    "    return data.Text.apply(lambda x: \" \".join(x))\n",
    "\n",
    "def translating(data):\n",
    "    translator = Translator()\n",
    "    return data.Text.apply(lambda x: translator.translate(x).text,x)"
   ]
  },
  {
   "cell_type": "code",
   "execution_count": 35,
   "metadata": {},
   "outputs": [],
   "source": [
    "def analyzis(data):\n",
    "    predict = list()\n",
    "    for d in data.Text.values:\n",
    "        twt = d\n",
    "        twt = tokenizer.texts_to_sequences(twt)\n",
    "        twt = pad_sequences(twt, maxlen=53, dtype='int32', value=0)\n",
    "        sentiment = model.predict(twt,batch_size=1,verbose = 2)[0]\n",
    "        if(np.argmax(sentiment) == 0):\n",
    "            predict.append(0)\n",
    "        elif (np.argmax(sentiment) == 1):\n",
    "            predict.append(1)\n",
    "    return predict"
   ]
  },
  {
   "cell_type": "markdown",
   "metadata": {},
   "source": [
    "# Analises dos Twitters"
   ]
  },
  {
   "cell_type": "markdown",
   "metadata": {},
   "source": [
    "### Analise de Sentimento : Bolsonaro"
   ]
  },
  {
   "cell_type": "code",
   "execution_count": 30,
   "metadata": {},
   "outputs": [
    {
     "data": {
      "text/html": [
       "<div>\n",
       "<style scoped>\n",
       "    .dataframe tbody tr th:only-of-type {\n",
       "        vertical-align: middle;\n",
       "    }\n",
       "\n",
       "    .dataframe tbody tr th {\n",
       "        vertical-align: top;\n",
       "    }\n",
       "\n",
       "    .dataframe thead th {\n",
       "        text-align: right;\n",
       "    }\n",
       "</style>\n",
       "<table border=\"1\" class=\"dataframe\">\n",
       "  <thead>\n",
       "    <tr style=\"text-align: right;\">\n",
       "      <th></th>\n",
       "      <th>Candidato</th>\n",
       "      <th>Text</th>\n",
       "    </tr>\n",
       "  </thead>\n",
       "  <tbody>\n",
       "    <tr>\n",
       "      <th>NaN</th>\n",
       "      <td>candidato</td>\n",
       "      <td>text</td>\n",
       "    </tr>\n",
       "    <tr>\n",
       "      <th>0.0</th>\n",
       "      <td>Bolsonaro</td>\n",
       "      <td>RT @Miltonneves: Falo como “sapo de fora”. Ess...</td>\n",
       "    </tr>\n",
       "    <tr>\n",
       "      <th>1.0</th>\n",
       "      <td>Bolsonaro</td>\n",
       "      <td>RT @cidadaodemal: Viva Nossa Senhora Aparecida...</td>\n",
       "    </tr>\n",
       "    <tr>\n",
       "      <th>2.0</th>\n",
       "      <td>Bolsonaro</td>\n",
       "      <td>RT @carloscezarcjr: Bolsonaro fica em 1° lugar...</td>\n",
       "    </tr>\n",
       "    <tr>\n",
       "      <th>3.0</th>\n",
       "      <td>Bolsonaro</td>\n",
       "      <td>RT @NaoInviabilize: não foi atacada, não foi a...</td>\n",
       "    </tr>\n",
       "  </tbody>\n",
       "</table>\n",
       "</div>"
      ],
      "text/plain": [
       "      Candidato                                               Text\n",
       "NaN   candidato                                               text\n",
       " 0.0  Bolsonaro  RT @Miltonneves: Falo como “sapo de fora”. Ess...\n",
       " 1.0  Bolsonaro  RT @cidadaodemal: Viva Nossa Senhora Aparecida...\n",
       " 2.0  Bolsonaro  RT @carloscezarcjr: Bolsonaro fica em 1° lugar...\n",
       " 3.0  Bolsonaro  RT @NaoInviabilize: não foi atacada, não foi a..."
      ]
     },
     "execution_count": 30,
     "metadata": {},
     "output_type": "execute_result"
    }
   ],
   "source": [
    "data = pd.read_csv(\"Candidatos/Bolsonaro.csv\", names=['Candidato', 'Text'])\n",
    "data.head()"
   ]
  },
  {
   "cell_type": "code",
   "execution_count": 31,
   "metadata": {},
   "outputs": [],
   "source": [
    "data.Text = words_to_lower(data)\n",
    "data.Text = remove_username(data)\n",
    "data.Text = remove_number(data)\n",
    "data.Text = remove_pontuation(data)\n",
    "data.Text = remove_repeated_character(data)\n",
    "data.Text = translating(data)\n",
    "data.Text = tokenizing(data)\n",
    "data.Text = remove_stopword(data)\n",
    "data.Text = stemming(data)\n",
    "data.Text = concat(data)"
   ]
  },
  {
   "cell_type": "code",
   "execution_count": 36,
   "metadata": {},
   "outputs": [],
   "source": [
    "p = analyzis(data)"
   ]
  },
  {
   "cell_type": "code",
   "execution_count": 37,
   "metadata": {},
   "outputs": [
    {
     "data": {
      "image/png": "[encoded data removed]",
      "text/plain": [
       "<Figure size 432x288 with 1 Axes>"
      ]
     },
     "metadata": {},
     "output_type": "display_data"
    }
   ],
   "source": [
    "plt.hist(p, bins=3, align=('mid'))\n",
    "plt.title(\"Bolsonaro Analysis\")\n",
    "plt.xlabel(\"Sentiment\")\n",
    "plt.ylabel(\"Frequency\")\n",
    "plt.show()"
   ]
  },
  {
   "cell_type": "markdown",
   "metadata": {},
   "source": [
    "### Analise de Sentimento : Haddad"
   ]
  },
  {
   "cell_type": "code",
   "execution_count": 38,
   "metadata": {},
   "outputs": [
    {
     "data": {
      "text/html": [
       "<div>\n",
       "<style scoped>\n",
       "    .dataframe tbody tr th:only-of-type {\n",
       "        vertical-align: middle;\n",
       "    }\n",
       "\n",
       "    .dataframe tbody tr th {\n",
       "        vertical-align: top;\n",
       "    }\n",
       "\n",
       "    .dataframe thead th {\n",
       "        text-align: right;\n",
       "    }\n",
       "</style>\n",
       "<table border=\"1\" class=\"dataframe\">\n",
       "  <thead>\n",
       "    <tr style=\"text-align: right;\">\n",
       "      <th></th>\n",
       "      <th>Candidato</th>\n",
       "      <th>Text</th>\n",
       "    </tr>\n",
       "  </thead>\n",
       "  <tbody>\n",
       "    <tr>\n",
       "      <th>NaN</th>\n",
       "      <td>candidato</td>\n",
       "      <td>text</td>\n",
       "    </tr>\n",
       "    <tr>\n",
       "      <th>0.0</th>\n",
       "      <td>Haddad</td>\n",
       "      <td>RT @Desesquerdizada: 1° turno, Bolsonaro receb...</td>\n",
       "    </tr>\n",
       "    <tr>\n",
       "      <th>1.0</th>\n",
       "      <td>Haddad</td>\n",
       "      <td>@Haddad_Fernando o que o senhor explica?</td>\n",
       "    </tr>\n",
       "    <tr>\n",
       "      <th>2.0</th>\n",
       "      <td>Haddad</td>\n",
       "      <td>@gorilagato Vi uma moça andando com uma camise...</td>\n",
       "    </tr>\n",
       "    <tr>\n",
       "      <th>3.0</th>\n",
       "      <td>Haddad</td>\n",
       "      <td>RT @NaoInviabilize: não foi atacada, não foi a...</td>\n",
       "    </tr>\n",
       "  </tbody>\n",
       "</table>\n",
       "</div>"
      ],
      "text/plain": [
       "      Candidato                                               Text\n",
       "NaN   candidato                                               text\n",
       " 0.0     Haddad  RT @Desesquerdizada: 1° turno, Bolsonaro receb...\n",
       " 1.0     Haddad           @Haddad_Fernando o que o senhor explica?\n",
       " 2.0     Haddad  @gorilagato Vi uma moça andando com uma camise...\n",
       " 3.0     Haddad  RT @NaoInviabilize: não foi atacada, não foi a..."
      ]
     },
     "execution_count": 38,
     "metadata": {},
     "output_type": "execute_result"
    }
   ],
   "source": [
    "data = pd.read_csv(\"Candidatos/Haddad.csv\", names=['Candidato', 'Text'])\n",
    "data.head()"
   ]
  },
  {
   "cell_type": "code",
   "execution_count": 39,
   "metadata": {},
   "outputs": [],
   "source": [
    "data.Text = words_to_lower(data)\n",
    "data.Text = remove_username(data)\n",
    "data.Text = remove_number(data)\n",
    "data.Text = remove_pontuation(data)\n",
    "data.Text = remove_repeated_character(data)\n",
    "data.Text = translating(data)\n",
    "data.Text = tokenizing(data)\n",
    "data.Text = remove_stopword(data)\n",
    "data.Text = stemming(data)\n",
    "data.Text = concat(data)"
   ]
  },
  {
   "cell_type": "code",
   "execution_count": 40,
   "metadata": {},
   "outputs": [],
   "source": [
    "p = analyzis(data)"
   ]
  },
  {
   "cell_type": "code",
   "execution_count": 58,
   "metadata": {},
   "outputs": [
    {
     "data": {
      "image/png": "[encoded data removed]",
      "text/plain": [
       "<Figure size 432x288 with 1 Axes>"
      ]
     },
     "metadata": {},
     "output_type": "display_data"
    }
   ],
   "source": [
    "plt.hist(p, bins=3, align=('mid'))\n",
    "plt.title(\"Haddad Analysis\")\n",
    "plt.xlabel(\"Sentiment\")\n",
    "plt.ylabel(\"Frequency\")\n",
    "plt.show()"
   ]
  },
  {
   "cell_type": "markdown",
   "metadata": {},
   "source": [
    "### Analise de Sentimento : Ciro"
   ]
  },
  {
   "cell_type": "code",
   "execution_count": 42,
   "metadata": {},
   "outputs": [
    {
     "data": {
      "text/html": [
       "<div>\n",
       "<style scoped>\n",
       "    .dataframe tbody tr th:only-of-type {\n",
       "        vertical-align: middle;\n",
       "    }\n",
       "\n",
       "    .dataframe tbody tr th {\n",
       "        vertical-align: top;\n",
       "    }\n",
       "\n",
       "    .dataframe thead th {\n",
       "        text-align: right;\n",
       "    }\n",
       "</style>\n",
       "<table border=\"1\" class=\"dataframe\">\n",
       "  <thead>\n",
       "    <tr style=\"text-align: right;\">\n",
       "      <th></th>\n",
       "      <th>Candidato</th>\n",
       "      <th>Text</th>\n",
       "    </tr>\n",
       "  </thead>\n",
       "  <tbody>\n",
       "    <tr>\n",
       "      <th>NaN</th>\n",
       "      <td>candidato</td>\n",
       "      <td>text</td>\n",
       "    </tr>\n",
       "    <tr>\n",
       "      <th>0.0</th>\n",
       "      <td>Ciro</td>\n",
       "      <td>@brokiado Se fosse o Ciro já tinha chamado de ...</td>\n",
       "    </tr>\n",
       "    <tr>\n",
       "      <th>1.0</th>\n",
       "      <td>Ciro</td>\n",
       "      <td>Só me resta lamentar https://t.co/oJwDxBAaIG</td>\n",
       "    </tr>\n",
       "    <tr>\n",
       "      <th>2.0</th>\n",
       "      <td>Ciro</td>\n",
       "      <td>RT @DaniloGentili: Começou falando que ia tira...</td>\n",
       "    </tr>\n",
       "    <tr>\n",
       "      <th>3.0</th>\n",
       "      <td>Ciro</td>\n",
       "      <td>FORO 12  MÍDIA PETISTA 247 JOGA A TOALHA E ATA...</td>\n",
       "    </tr>\n",
       "  </tbody>\n",
       "</table>\n",
       "</div>"
      ],
      "text/plain": [
       "      Candidato                                               Text\n",
       "NaN   candidato                                               text\n",
       " 0.0       Ciro  @brokiado Se fosse o Ciro já tinha chamado de ...\n",
       " 1.0       Ciro       Só me resta lamentar https://t.co/oJwDxBAaIG\n",
       " 2.0       Ciro  RT @DaniloGentili: Começou falando que ia tira...\n",
       " 3.0       Ciro  FORO 12  MÍDIA PETISTA 247 JOGA A TOALHA E ATA..."
      ]
     },
     "execution_count": 42,
     "metadata": {},
     "output_type": "execute_result"
    }
   ],
   "source": [
    "data = pd.read_csv(\"Candidatos/Ciro.csv\", names=['Candidato', 'Text'])\n",
    "data.head()"
   ]
  },
  {
   "cell_type": "code",
   "execution_count": 59,
   "metadata": {},
   "outputs": [],
   "source": [
    "data.Text = words_to_lower(data)\n",
    "data.Text = remove_username(data)\n",
    "data.Text = remove_number(data)\n",
    "data.Text = remove_pontuation(data)\n",
    "data.Text = remove_repeated_character(data)\n",
    "data.Text = translating(data)\n",
    "data.Text = tokenizing(data)\n",
    "data.Text = remove_stopword(data)\n",
    "data.Text = stemming(data)\n",
    "data.Text = concat(data)"
   ]
  },
  {
   "cell_type": "code",
   "execution_count": 60,
   "metadata": {},
   "outputs": [],
   "source": [
    "p = analyzis(data)"
   ]
  },
  {
   "cell_type": "code",
   "execution_count": 86,
   "metadata": {},
   "outputs": [
    {
     "data": {
      "image/png": "[encoded data removed]",
      "text/plain": [
       "<Figure size 432x288 with 1 Axes>"
      ]
     },
     "metadata": {},
     "output_type": "display_data"
    }
   ],
   "source": [
    "plt.hist(p, bins=3, align=('mid'))\n",
    "plt.title(\"Ciro Analysis\")\n",
    "plt.xlabel(\"Sentiment\")\n",
    "plt.ylabel(\"Frequency\")\n",
    "plt.show()"
   ]
  },
  {
   "cell_type": "markdown",
   "metadata": {},
   "source": [
    "### Analise de Sentimento : Alckmin"
   ]
  },
  {
   "cell_type": "code",
   "execution_count": 65,
   "metadata": {},
   "outputs": [
    {
     "data": {
      "text/html": [
       "<div>\n",
       "<style scoped>\n",
       "    .dataframe tbody tr th:only-of-type {\n",
       "        vertical-align: middle;\n",
       "    }\n",
       "\n",
       "    .dataframe tbody tr th {\n",
       "        vertical-align: top;\n",
       "    }\n",
       "\n",
       "    .dataframe thead th {\n",
       "        text-align: right;\n",
       "    }\n",
       "</style>\n",
       "<table border=\"1\" class=\"dataframe\">\n",
       "  <thead>\n",
       "    <tr style=\"text-align: right;\">\n",
       "      <th></th>\n",
       "      <th>Candidato</th>\n",
       "      <th>Text</th>\n",
       "    </tr>\n",
       "  </thead>\n",
       "  <tbody>\n",
       "    <tr>\n",
       "      <th>NaN</th>\n",
       "      <td>candidato</td>\n",
       "      <td>text</td>\n",
       "    </tr>\n",
       "    <tr>\n",
       "      <th>0.0</th>\n",
       "      <td>Alckmin</td>\n",
       "      <td>RT @zehdeabreu: Respeitei a posição de @regina...</td>\n",
       "    </tr>\n",
       "    <tr>\n",
       "      <th>1.0</th>\n",
       "      <td>Alckmin</td>\n",
       "      <td>RT @EISENHOWER27: Eleitores e simpatizantes do...</td>\n",
       "    </tr>\n",
       "    <tr>\n",
       "      <th>2.0</th>\n",
       "      <td>Alckmin</td>\n",
       "      <td>RT @zehdeabreu: Respeitei a posição de @regina...</td>\n",
       "    </tr>\n",
       "    <tr>\n",
       "      <th>3.0</th>\n",
       "      <td>Alckmin</td>\n",
       "      <td>RT @EISENHOWER27: Eleitores e simpatizantes do...</td>\n",
       "    </tr>\n",
       "  </tbody>\n",
       "</table>\n",
       "</div>"
      ],
      "text/plain": [
       "      Candidato                                               Text\n",
       "NaN   candidato                                               text\n",
       " 0.0    Alckmin  RT @zehdeabreu: Respeitei a posição de @regina...\n",
       " 1.0    Alckmin  RT @EISENHOWER27: Eleitores e simpatizantes do...\n",
       " 2.0    Alckmin  RT @zehdeabreu: Respeitei a posição de @regina...\n",
       " 3.0    Alckmin  RT @EISENHOWER27: Eleitores e simpatizantes do..."
      ]
     },
     "execution_count": 65,
     "metadata": {},
     "output_type": "execute_result"
    }
   ],
   "source": [
    "data = pd.read_csv(\"Candidatos/Alckmin.csv\", names=['Candidato', 'Text'])\n",
    "data.head()"
   ]
  },
  {
   "cell_type": "code",
   "execution_count": 66,
   "metadata": {},
   "outputs": [],
   "source": [
    "data.Text = words_to_lower(data)\n",
    "data.Text = remove_username(data)\n",
    "data.Text = remove_number(data)\n",
    "data.Text = remove_pontuation(data)\n",
    "data.Text = remove_repeated_character(data)\n",
    "data.Text = translating(data)\n",
    "data.Text = tokenizing(data)\n",
    "data.Text = remove_stopword(data)\n",
    "data.Text = stemming(data)\n",
    "data.Text = concat(data)"
   ]
  },
  {
   "cell_type": "code",
   "execution_count": 74,
   "metadata": {},
   "outputs": [],
   "source": [
    "p = analyzis(data)"
   ]
  },
  {
   "cell_type": "code",
   "execution_count": 88,
   "metadata": {},
   "outputs": [
    {
     "data": {
      "image/png": "[encoded data removed]",
      "text/plain": [
       "<Figure size 432x288 with 1 Axes>"
      ]
     },
     "metadata": {},
     "output_type": "display_data"
    }
   ],
   "source": [
    "plt.hist(p, bins=3, align=('mid'))\n",
    "plt.title(\"Alckmin Analysis\")\n",
    "plt.xlabel(\"Sentiment\")\n",
    "plt.ylabel(\"Frequency\")\n",
    "plt.show()"
   ]
  },
  {
   "cell_type": "markdown",
   "metadata": {},
   "source": [
    "### Analise de Sentimento : Boulos"
   ]
  },
  {
   "cell_type": "code",
   "execution_count": 69,
   "metadata": {},
   "outputs": [
    {
     "data": {
      "text/html": [
       "<div>\n",
       "<style scoped>\n",
       "    .dataframe tbody tr th:only-of-type {\n",
       "        vertical-align: middle;\n",
       "    }\n",
       "\n",
       "    .dataframe tbody tr th {\n",
       "        vertical-align: top;\n",
       "    }\n",
       "\n",
       "    .dataframe thead th {\n",
       "        text-align: right;\n",
       "    }\n",
       "</style>\n",
       "<table border=\"1\" class=\"dataframe\">\n",
       "  <thead>\n",
       "    <tr style=\"text-align: right;\">\n",
       "      <th></th>\n",
       "      <th>Candidato</th>\n",
       "      <th>Text</th>\n",
       "    </tr>\n",
       "  </thead>\n",
       "  <tbody>\n",
       "    <tr>\n",
       "      <th>NaN</th>\n",
       "      <td>candidato</td>\n",
       "      <td>text</td>\n",
       "    </tr>\n",
       "    <tr>\n",
       "      <th>0.0</th>\n",
       "      <td>Boulos</td>\n",
       "      <td>RT @Mestredestra1: PT de Verde e Amarelo\\r\\nMa...</td>\n",
       "    </tr>\n",
       "    <tr>\n",
       "      <th>1.0</th>\n",
       "      <td>Boulos</td>\n",
       "      <td>RT @analisdocsPF: BOULOS QUER INVADIR A CASA D...</td>\n",
       "    </tr>\n",
       "    <tr>\n",
       "      <th>2.0</th>\n",
       "      <td>Boulos</td>\n",
       "      <td>RT @esquerdanao: Boulos convoca apoiadores par...</td>\n",
       "    </tr>\n",
       "    <tr>\n",
       "      <th>3.0</th>\n",
       "      <td>Boulos</td>\n",
       "      <td>RT @Fabi_Moller_: Boulos \"É lamentável que Bol...</td>\n",
       "    </tr>\n",
       "  </tbody>\n",
       "</table>\n",
       "</div>"
      ],
      "text/plain": [
       "      Candidato                                               Text\n",
       "NaN   candidato                                               text\n",
       " 0.0     Boulos  RT @Mestredestra1: PT de Verde e Amarelo\\r\\nMa...\n",
       " 1.0     Boulos  RT @analisdocsPF: BOULOS QUER INVADIR A CASA D...\n",
       " 2.0     Boulos  RT @esquerdanao: Boulos convoca apoiadores par...\n",
       " 3.0     Boulos  RT @Fabi_Moller_: Boulos \"É lamentável que Bol..."
      ]
     },
     "execution_count": 69,
     "metadata": {},
     "output_type": "execute_result"
    }
   ],
   "source": [
    "data = pd.read_csv(\"Candidatos/Boulos.csv\", names=['Candidato', 'Text'])\n",
    "data.head()"
   ]
  },
  {
   "cell_type": "code",
   "execution_count": 70,
   "metadata": {},
   "outputs": [],
   "source": [
    "data.Text = words_to_lower(data)\n",
    "data.Text = remove_username(data)\n",
    "data.Text = remove_number(data)\n",
    "data.Text = remove_pontuation(data)\n",
    "data.Text = remove_repeated_character(data)\n",
    "data.Text = translating(data)\n",
    "data.Text = tokenizing(data)\n",
    "data.Text = remove_stopword(data)\n",
    "data.Text = stemming(data)\n",
    "data.Text = concat(data)"
   ]
  },
  {
   "cell_type": "code",
   "execution_count": 71,
   "metadata": {},
   "outputs": [],
   "source": [
    "p = analyzis(data)"
   ]
  },
  {
   "cell_type": "code",
   "execution_count": 76,
   "metadata": {},
   "outputs": [
    {
     "data": {
      "image/png": "[encoded data removed]",
      "text/plain": [
       "<Figure size 432x288 with 1 Axes>"
      ]
     },
     "metadata": {},
     "output_type": "display_data"
    }
   ],
   "source": [
    "plt.hist(p, bins=3, align=('mid'))\n",
    "plt.title(\"Boulos Analysis\")\n",
    "plt.xlabel(\"Sentiment\")\n",
    "plt.ylabel(\"Frequency\")\n",
    "plt.show()"
   ]
  }
 ],
 "metadata": {
  "kernelspec": {
   "display_name": "Python 3",
   "language": "python",
   "name": "python3"
  },
  "language_info": {
   "codemirror_mode": {
    "name": "ipython",
    "version": 3
   },
   "file_extension": ".py",
   "mimetype": "text/x-python",
   "name": "python",
   "nbconvert_exporter": "python",
   "pygments_lexer": "ipython3",
   "version": "3.6.5"
  }
 },
 "nbformat": 4,
 "nbformat_minor": 2
}
